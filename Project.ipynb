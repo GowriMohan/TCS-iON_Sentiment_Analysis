{
 "cells": [
  {
   "cell_type": "code",
   "execution_count": 1,
   "id": "1083c067",
   "metadata": {},
   "outputs": [],
   "source": [
    "# importing neccessary libraries\n",
    "\n",
    "import numpy as np\n",
    "import pandas as pd\n",
    "import seaborn as sns\n",
    "import matplotlib.pyplot as plt\n",
    "\n",
    "import re\n",
    "import nltk\n",
    "import spacy\n",
    "import string\n",
    "\n",
    "from nltk.corpus import stopwords\n",
    "from nltk.tokenize import word_tokenize\n",
    "from nltk.stem import WordNetLemmatizer\n",
    "\n",
    "from sklearn.feature_extraction.text import CountVectorizer\n",
    "from sklearn.feature_extraction.text import TfidfVectorizer\n",
    "\n",
    "import tensorflow\n",
    "import keras\n",
    "from tensorflow.keras.models import Sequential\n",
    "\n",
    "from sklearn.model_selection import train_test_split\n",
    "\n",
    "from sklearn.metrics import accuracy_score\n",
    "\n",
    "from sklearn.preprocessing import LabelEncoder\n",
    "from keras.preprocessing.text import Tokenizer\n",
    "\n",
    "from tensorflow.keras.preprocessing.sequence import pad_sequences\n",
    "from tensorflow.keras.models import Sequential\n",
    "from tensorflow.keras.layers import Embedding, SimpleRNN, Dense, Dropout\n",
    "from tensorflow.keras.utils import to_categorical\n",
    "from tensorflow.keras.callbacks import EarlyStopping\n",
    "# from gensim.models import Word2Vec"
   ]
  },
  {
   "cell_type": "code",
   "execution_count": 2,
   "id": "6bc1a7df",
   "metadata": {},
   "outputs": [
    {
     "name": "stderr",
     "output_type": "stream",
     "text": [
      "[nltk_data] Downloading package wordnet to\n",
      "[nltk_data]     C:\\Users\\Mohan\\AppData\\Roaming\\nltk_data...\n",
      "[nltk_data]   Package wordnet is already up-to-date!\n"
     ]
    },
    {
     "data": {
      "text/plain": [
       "True"
      ]
     },
     "execution_count": 2,
     "metadata": {},
     "output_type": "execute_result"
    }
   ],
   "source": [
    "import nltk\n",
    "nltk.download('wordnet')"
   ]
  },
  {
   "cell_type": "code",
   "execution_count": 3,
   "id": "05e737cb",
   "metadata": {},
   "outputs": [
    {
     "data": {
      "text/html": [
       "<div>\n",
       "<style scoped>\n",
       "    .dataframe tbody tr th:only-of-type {\n",
       "        vertical-align: middle;\n",
       "    }\n",
       "\n",
       "    .dataframe tbody tr th {\n",
       "        vertical-align: top;\n",
       "    }\n",
       "\n",
       "    .dataframe thead th {\n",
       "        text-align: right;\n",
       "    }\n",
       "</style>\n",
       "<table border=\"1\" class=\"dataframe\">\n",
       "  <thead>\n",
       "    <tr style=\"text-align: right;\">\n",
       "      <th></th>\n",
       "      <th>tweet_id</th>\n",
       "      <th>airline_sentiment</th>\n",
       "      <th>airline_sentiment_confidence</th>\n",
       "      <th>negativereason</th>\n",
       "      <th>negativereason_confidence</th>\n",
       "      <th>airline</th>\n",
       "      <th>airline_sentiment_gold</th>\n",
       "      <th>name</th>\n",
       "      <th>negativereason_gold</th>\n",
       "      <th>retweet_count</th>\n",
       "      <th>text</th>\n",
       "      <th>tweet_coord</th>\n",
       "      <th>tweet_created</th>\n",
       "      <th>tweet_location</th>\n",
       "      <th>user_timezone</th>\n",
       "    </tr>\n",
       "  </thead>\n",
       "  <tbody>\n",
       "    <tr>\n",
       "      <th>0</th>\n",
       "      <td>570306133677760513</td>\n",
       "      <td>neutral</td>\n",
       "      <td>1.0000</td>\n",
       "      <td>NaN</td>\n",
       "      <td>NaN</td>\n",
       "      <td>Virgin America</td>\n",
       "      <td>NaN</td>\n",
       "      <td>cairdin</td>\n",
       "      <td>NaN</td>\n",
       "      <td>0</td>\n",
       "      <td>@VirginAmerica What @dhepburn said.</td>\n",
       "      <td>NaN</td>\n",
       "      <td>2015-02-24 11:35:52 -0800</td>\n",
       "      <td>NaN</td>\n",
       "      <td>Eastern Time (US &amp; Canada)</td>\n",
       "    </tr>\n",
       "    <tr>\n",
       "      <th>1</th>\n",
       "      <td>570301130888122368</td>\n",
       "      <td>positive</td>\n",
       "      <td>0.3486</td>\n",
       "      <td>NaN</td>\n",
       "      <td>0.0000</td>\n",
       "      <td>Virgin America</td>\n",
       "      <td>NaN</td>\n",
       "      <td>jnardino</td>\n",
       "      <td>NaN</td>\n",
       "      <td>0</td>\n",
       "      <td>@VirginAmerica plus you've added commercials t...</td>\n",
       "      <td>NaN</td>\n",
       "      <td>2015-02-24 11:15:59 -0800</td>\n",
       "      <td>NaN</td>\n",
       "      <td>Pacific Time (US &amp; Canada)</td>\n",
       "    </tr>\n",
       "    <tr>\n",
       "      <th>2</th>\n",
       "      <td>570301083672813571</td>\n",
       "      <td>neutral</td>\n",
       "      <td>0.6837</td>\n",
       "      <td>NaN</td>\n",
       "      <td>NaN</td>\n",
       "      <td>Virgin America</td>\n",
       "      <td>NaN</td>\n",
       "      <td>yvonnalynn</td>\n",
       "      <td>NaN</td>\n",
       "      <td>0</td>\n",
       "      <td>@VirginAmerica I didn't today... Must mean I n...</td>\n",
       "      <td>NaN</td>\n",
       "      <td>2015-02-24 11:15:48 -0800</td>\n",
       "      <td>Lets Play</td>\n",
       "      <td>Central Time (US &amp; Canada)</td>\n",
       "    </tr>\n",
       "    <tr>\n",
       "      <th>3</th>\n",
       "      <td>570301031407624196</td>\n",
       "      <td>negative</td>\n",
       "      <td>1.0000</td>\n",
       "      <td>Bad Flight</td>\n",
       "      <td>0.7033</td>\n",
       "      <td>Virgin America</td>\n",
       "      <td>NaN</td>\n",
       "      <td>jnardino</td>\n",
       "      <td>NaN</td>\n",
       "      <td>0</td>\n",
       "      <td>@VirginAmerica it's really aggressive to blast...</td>\n",
       "      <td>NaN</td>\n",
       "      <td>2015-02-24 11:15:36 -0800</td>\n",
       "      <td>NaN</td>\n",
       "      <td>Pacific Time (US &amp; Canada)</td>\n",
       "    </tr>\n",
       "    <tr>\n",
       "      <th>4</th>\n",
       "      <td>570300817074462722</td>\n",
       "      <td>negative</td>\n",
       "      <td>1.0000</td>\n",
       "      <td>Can't Tell</td>\n",
       "      <td>1.0000</td>\n",
       "      <td>Virgin America</td>\n",
       "      <td>NaN</td>\n",
       "      <td>jnardino</td>\n",
       "      <td>NaN</td>\n",
       "      <td>0</td>\n",
       "      <td>@VirginAmerica and it's a really big bad thing...</td>\n",
       "      <td>NaN</td>\n",
       "      <td>2015-02-24 11:14:45 -0800</td>\n",
       "      <td>NaN</td>\n",
       "      <td>Pacific Time (US &amp; Canada)</td>\n",
       "    </tr>\n",
       "  </tbody>\n",
       "</table>\n",
       "</div>"
      ],
      "text/plain": [
       "             tweet_id airline_sentiment  airline_sentiment_confidence  \\\n",
       "0  570306133677760513           neutral                        1.0000   \n",
       "1  570301130888122368          positive                        0.3486   \n",
       "2  570301083672813571           neutral                        0.6837   \n",
       "3  570301031407624196          negative                        1.0000   \n",
       "4  570300817074462722          negative                        1.0000   \n",
       "\n",
       "  negativereason  negativereason_confidence         airline  \\\n",
       "0            NaN                        NaN  Virgin America   \n",
       "1            NaN                     0.0000  Virgin America   \n",
       "2            NaN                        NaN  Virgin America   \n",
       "3     Bad Flight                     0.7033  Virgin America   \n",
       "4     Can't Tell                     1.0000  Virgin America   \n",
       "\n",
       "  airline_sentiment_gold        name negativereason_gold  retweet_count  \\\n",
       "0                    NaN     cairdin                 NaN              0   \n",
       "1                    NaN    jnardino                 NaN              0   \n",
       "2                    NaN  yvonnalynn                 NaN              0   \n",
       "3                    NaN    jnardino                 NaN              0   \n",
       "4                    NaN    jnardino                 NaN              0   \n",
       "\n",
       "                                                text tweet_coord  \\\n",
       "0                @VirginAmerica What @dhepburn said.         NaN   \n",
       "1  @VirginAmerica plus you've added commercials t...         NaN   \n",
       "2  @VirginAmerica I didn't today... Must mean I n...         NaN   \n",
       "3  @VirginAmerica it's really aggressive to blast...         NaN   \n",
       "4  @VirginAmerica and it's a really big bad thing...         NaN   \n",
       "\n",
       "               tweet_created tweet_location               user_timezone  \n",
       "0  2015-02-24 11:35:52 -0800            NaN  Eastern Time (US & Canada)  \n",
       "1  2015-02-24 11:15:59 -0800            NaN  Pacific Time (US & Canada)  \n",
       "2  2015-02-24 11:15:48 -0800      Lets Play  Central Time (US & Canada)  \n",
       "3  2015-02-24 11:15:36 -0800            NaN  Pacific Time (US & Canada)  \n",
       "4  2015-02-24 11:14:45 -0800            NaN  Pacific Time (US & Canada)  "
      ]
     },
     "execution_count": 3,
     "metadata": {},
     "output_type": "execute_result"
    }
   ],
   "source": [
    "# Reading the dataset\n",
    "data = pd.read_csv('Tweets.csv')\n",
    "data.head()"
   ]
  },
  {
   "cell_type": "code",
   "execution_count": 4,
   "id": "8678303c",
   "metadata": {},
   "outputs": [
    {
     "data": {
      "text/plain": [
       "(14640, 15)"
      ]
     },
     "execution_count": 4,
     "metadata": {},
     "output_type": "execute_result"
    }
   ],
   "source": [
    "data.shape"
   ]
  },
  {
   "cell_type": "code",
   "execution_count": 5,
   "id": "c2790e98",
   "metadata": {},
   "outputs": [
    {
     "data": {
      "text/plain": [
       "tweet_id                          int64\n",
       "airline_sentiment                object\n",
       "airline_sentiment_confidence    float64\n",
       "negativereason                   object\n",
       "negativereason_confidence       float64\n",
       "airline                          object\n",
       "airline_sentiment_gold           object\n",
       "name                             object\n",
       "negativereason_gold              object\n",
       "retweet_count                     int64\n",
       "text                             object\n",
       "tweet_coord                      object\n",
       "tweet_created                    object\n",
       "tweet_location                   object\n",
       "user_timezone                    object\n",
       "dtype: object"
      ]
     },
     "execution_count": 5,
     "metadata": {},
     "output_type": "execute_result"
    }
   ],
   "source": [
    "data.dtypes"
   ]
  },
  {
   "cell_type": "code",
   "execution_count": 6,
   "id": "7e36ca1e",
   "metadata": {},
   "outputs": [
    {
     "data": {
      "text/plain": [
       "tweet_id                            0\n",
       "airline_sentiment                   0\n",
       "airline_sentiment_confidence        0\n",
       "negativereason                   5462\n",
       "negativereason_confidence        4118\n",
       "airline                             0\n",
       "airline_sentiment_gold          14600\n",
       "name                                0\n",
       "negativereason_gold             14608\n",
       "retweet_count                       0\n",
       "text                                0\n",
       "tweet_coord                     13621\n",
       "tweet_created                       0\n",
       "tweet_location                   4733\n",
       "user_timezone                    4820\n",
       "dtype: int64"
      ]
     },
     "execution_count": 6,
     "metadata": {},
     "output_type": "execute_result"
    }
   ],
   "source": [
    "data.isna().sum()"
   ]
  },
  {
   "cell_type": "code",
   "execution_count": 7,
   "id": "4fb20647",
   "metadata": {},
   "outputs": [
    {
     "data": {
      "text/plain": [
       "\"@VirginAmerica it was amazing, and arrived an hour early. You're too good to me.\""
      ]
     },
     "execution_count": 7,
     "metadata": {},
     "output_type": "execute_result"
    }
   ],
   "source": [
    "data['text'][9]"
   ]
  },
  {
   "cell_type": "code",
   "execution_count": 8,
   "id": "d670dab5",
   "metadata": {},
   "outputs": [
    {
     "data": {
      "text/plain": [
       "negative    9178\n",
       "neutral     3099\n",
       "positive    2363\n",
       "Name: airline_sentiment, dtype: int64"
      ]
     },
     "execution_count": 8,
     "metadata": {},
     "output_type": "execute_result"
    }
   ],
   "source": [
    "#sentiment count\n",
    "data['airline_sentiment'].value_counts()            # Dataset is Unbalanced "
   ]
  },
  {
   "cell_type": "code",
   "execution_count": 9,
   "id": "cdbd64ce",
   "metadata": {},
   "outputs": [
    {
     "data": {
      "image/png": "[encoded data removed]",
      "text/plain": [
       "<Figure size 400x300 with 1 Axes>"
      ]
     },
     "metadata": {},
     "output_type": "display_data"
    }
   ],
   "source": [
    "#Distribution of sentiment\n",
    "sns.set(style=\"whitegrid\")\n",
    "plt.figure(figsize=(4, 3))\n",
    "sns.countplot(data=data, x='airline_sentiment', palette='Set1')\n",
    "\n",
    "# Add labels and title\n",
    "plt.xlabel('Sentiment')\n",
    "plt.ylabel('Count')\n",
    "plt.title('Sentiment Distribution')\n",
    "\n",
    "# Show the plot\n",
    "plt.show()"
   ]
  },
  {
   "cell_type": "code",
   "execution_count": 10,
   "id": "dd3e281a",
   "metadata": {},
   "outputs": [
    {
     "data": {
      "text/plain": [
       "36"
      ]
     },
     "execution_count": 10,
     "metadata": {},
     "output_type": "execute_result"
    }
   ],
   "source": [
    "# Checking for duplicate values\n",
    "data.duplicated().sum()                    # No duplicate values present"
   ]
  },
  {
   "cell_type": "code",
   "execution_count": 11,
   "id": "ca010a7c",
   "metadata": {},
   "outputs": [
    {
     "data": {
      "text/html": [
       "<div>\n",
       "<style scoped>\n",
       "    .dataframe tbody tr th:only-of-type {\n",
       "        vertical-align: middle;\n",
       "    }\n",
       "\n",
       "    .dataframe tbody tr th {\n",
       "        vertical-align: top;\n",
       "    }\n",
       "\n",
       "    .dataframe thead th {\n",
       "        text-align: right;\n",
       "    }\n",
       "</style>\n",
       "<table border=\"1\" class=\"dataframe\">\n",
       "  <thead>\n",
       "    <tr style=\"text-align: right;\">\n",
       "      <th></th>\n",
       "      <th>tweet_id</th>\n",
       "      <th>airline_sentiment</th>\n",
       "      <th>airline_sentiment_confidence</th>\n",
       "      <th>negativereason</th>\n",
       "      <th>negativereason_confidence</th>\n",
       "      <th>airline</th>\n",
       "      <th>airline_sentiment_gold</th>\n",
       "      <th>name</th>\n",
       "      <th>negativereason_gold</th>\n",
       "      <th>retweet_count</th>\n",
       "      <th>text</th>\n",
       "      <th>tweet_coord</th>\n",
       "      <th>tweet_created</th>\n",
       "      <th>tweet_location</th>\n",
       "      <th>user_timezone</th>\n",
       "    </tr>\n",
       "  </thead>\n",
       "  <tbody>\n",
       "    <tr>\n",
       "      <th>12040</th>\n",
       "      <td>570308309682675712</td>\n",
       "      <td>negative</td>\n",
       "      <td>1.0</td>\n",
       "      <td>Customer Service Issue</td>\n",
       "      <td>1.0</td>\n",
       "      <td>American</td>\n",
       "      <td>NaN</td>\n",
       "      <td>SweeLoTmac</td>\n",
       "      <td>NaN</td>\n",
       "      <td>0</td>\n",
       "      <td>@AmericanAir why would I even consider continu...</td>\n",
       "      <td>NaN</td>\n",
       "      <td>2015-02-24 11:44:31 -0800</td>\n",
       "      <td>NaN</td>\n",
       "      <td>Quito</td>\n",
       "    </tr>\n",
       "    <tr>\n",
       "      <th>12059</th>\n",
       "      <td>570305051819941889</td>\n",
       "      <td>neutral</td>\n",
       "      <td>1.0</td>\n",
       "      <td>NaN</td>\n",
       "      <td>NaN</td>\n",
       "      <td>American</td>\n",
       "      <td>NaN</td>\n",
       "      <td>Chandrafaythe</td>\n",
       "      <td>NaN</td>\n",
       "      <td>0</td>\n",
       "      <td>@AmericanAir my flight got Cancelled Flightled...</td>\n",
       "      <td>NaN</td>\n",
       "      <td>2015-02-24 11:31:34 -0800</td>\n",
       "      <td>NaN</td>\n",
       "      <td>Quito</td>\n",
       "    </tr>\n",
       "    <tr>\n",
       "      <th>12063</th>\n",
       "      <td>570303383782989824</td>\n",
       "      <td>neutral</td>\n",
       "      <td>1.0</td>\n",
       "      <td>NaN</td>\n",
       "      <td>NaN</td>\n",
       "      <td>American</td>\n",
       "      <td>NaN</td>\n",
       "      <td>trentgillaspie</td>\n",
       "      <td>NaN</td>\n",
       "      <td>0</td>\n",
       "      <td>.@AmericanAir just disappointed with the Fligh...</td>\n",
       "      <td>NaN</td>\n",
       "      <td>2015-02-24 11:24:57 -0800</td>\n",
       "      <td>Austin, but often Denver</td>\n",
       "      <td>Mountain Time (US &amp; Canada)</td>\n",
       "    </tr>\n",
       "    <tr>\n",
       "      <th>12066</th>\n",
       "      <td>570301929580048385</td>\n",
       "      <td>neutral</td>\n",
       "      <td>1.0</td>\n",
       "      <td>NaN</td>\n",
       "      <td>NaN</td>\n",
       "      <td>American</td>\n",
       "      <td>NaN</td>\n",
       "      <td>FinEdChat</td>\n",
       "      <td>NaN</td>\n",
       "      <td>0</td>\n",
       "      <td>@AmericanAir I did</td>\n",
       "      <td>NaN</td>\n",
       "      <td>2015-02-24 11:19:10 -0800</td>\n",
       "      <td>Cincinnati, Ohio</td>\n",
       "      <td>Atlantic Time (Canada)</td>\n",
       "    </tr>\n",
       "    <tr>\n",
       "      <th>12068</th>\n",
       "      <td>570301395141836801</td>\n",
       "      <td>negative</td>\n",
       "      <td>1.0</td>\n",
       "      <td>Late Flight</td>\n",
       "      <td>1.0</td>\n",
       "      <td>American</td>\n",
       "      <td>NaN</td>\n",
       "      <td>JoBarredaV</td>\n",
       "      <td>NaN</td>\n",
       "      <td>1</td>\n",
       "      <td>@AmericanAir r u serious?? 304min #delay with ...</td>\n",
       "      <td>NaN</td>\n",
       "      <td>2015-02-24 11:17:02 -0800</td>\n",
       "      <td>Mexico City</td>\n",
       "      <td>Central Time (US &amp; Canada)</td>\n",
       "    </tr>\n",
       "    <tr>\n",
       "      <th>12069</th>\n",
       "      <td>570300915418320897</td>\n",
       "      <td>negative</td>\n",
       "      <td>1.0</td>\n",
       "      <td>Cancelled Flight</td>\n",
       "      <td>1.0</td>\n",
       "      <td>American</td>\n",
       "      <td>NaN</td>\n",
       "      <td>LancasterPattie</td>\n",
       "      <td>NaN</td>\n",
       "      <td>0</td>\n",
       "      <td>@AmericanAir You are jumping the gun and Cance...</td>\n",
       "      <td>NaN</td>\n",
       "      <td>2015-02-24 11:15:08 -0800</td>\n",
       "      <td>NaN</td>\n",
       "      <td>NaN</td>\n",
       "    </tr>\n",
       "    <tr>\n",
       "      <th>12074</th>\n",
       "      <td>570299252141903873</td>\n",
       "      <td>positive</td>\n",
       "      <td>1.0</td>\n",
       "      <td>NaN</td>\n",
       "      <td>NaN</td>\n",
       "      <td>American</td>\n",
       "      <td>NaN</td>\n",
       "      <td>Mtts28</td>\n",
       "      <td>NaN</td>\n",
       "      <td>0</td>\n",
       "      <td>@AmericanAir This is exactly why ill be flying...</td>\n",
       "      <td>NaN</td>\n",
       "      <td>2015-02-24 11:08:32 -0800</td>\n",
       "      <td>Virginia</td>\n",
       "      <td>Eastern Time (US &amp; Canada)</td>\n",
       "    </tr>\n",
       "    <tr>\n",
       "      <th>12075</th>\n",
       "      <td>570298770136674304</td>\n",
       "      <td>negative</td>\n",
       "      <td>1.0</td>\n",
       "      <td>Customer Service Issue</td>\n",
       "      <td>1.0</td>\n",
       "      <td>American</td>\n",
       "      <td>NaN</td>\n",
       "      <td>law_econ</td>\n",
       "      <td>NaN</td>\n",
       "      <td>0</td>\n",
       "      <td>@AmericanAir This doesn't address my issue. I ...</td>\n",
       "      <td>NaN</td>\n",
       "      <td>2015-02-24 11:06:37 -0800</td>\n",
       "      <td>Newport Beach, CA</td>\n",
       "      <td>Central Time (US &amp; Canada)</td>\n",
       "    </tr>\n",
       "    <tr>\n",
       "      <th>12078</th>\n",
       "      <td>570298644475346945</td>\n",
       "      <td>negative</td>\n",
       "      <td>1.0</td>\n",
       "      <td>Customer Service Issue</td>\n",
       "      <td>1.0</td>\n",
       "      <td>American</td>\n",
       "      <td>NaN</td>\n",
       "      <td>denismishin</td>\n",
       "      <td>NaN</td>\n",
       "      <td>0</td>\n",
       "      <td>@AmericanAir submitted a case to AA customer r...</td>\n",
       "      <td>NaN</td>\n",
       "      <td>2015-02-24 11:06:07 -0800</td>\n",
       "      <td>Bellevue, WA</td>\n",
       "      <td>Eastern Time (US &amp; Canada)</td>\n",
       "    </tr>\n",
       "    <tr>\n",
       "      <th>12079</th>\n",
       "      <td>570298371140939776</td>\n",
       "      <td>negative</td>\n",
       "      <td>1.0</td>\n",
       "      <td>Late Flight</td>\n",
       "      <td>1.0</td>\n",
       "      <td>American</td>\n",
       "      <td>NaN</td>\n",
       "      <td>djjohnpayne</td>\n",
       "      <td>NaN</td>\n",
       "      <td>0</td>\n",
       "      <td>@AmericanAir if by near the gate you mean sitt...</td>\n",
       "      <td>[0.0, 0.0]</td>\n",
       "      <td>2015-02-24 11:05:01 -0800</td>\n",
       "      <td>Las Vegas, NV</td>\n",
       "      <td>Pacific Time (US &amp; Canada)</td>\n",
       "    </tr>\n",
       "    <tr>\n",
       "      <th>12086</th>\n",
       "      <td>570296996445204480</td>\n",
       "      <td>negative</td>\n",
       "      <td>1.0</td>\n",
       "      <td>Late Flight</td>\n",
       "      <td>1.0</td>\n",
       "      <td>American</td>\n",
       "      <td>NaN</td>\n",
       "      <td>aaronmsantos</td>\n",
       "      <td>NaN</td>\n",
       "      <td>0</td>\n",
       "      <td>@AmericanAir that's 16+ extra hours of travel ...</td>\n",
       "      <td>NaN</td>\n",
       "      <td>2015-02-24 10:59:34 -0800</td>\n",
       "      <td>Brooklyn, NY and all over.</td>\n",
       "      <td>Quito</td>\n",
       "    </tr>\n",
       "    <tr>\n",
       "      <th>12093</th>\n",
       "      <td>570295576446808065</td>\n",
       "      <td>negative</td>\n",
       "      <td>1.0</td>\n",
       "      <td>Customer Service Issue</td>\n",
       "      <td>1.0</td>\n",
       "      <td>American</td>\n",
       "      <td>NaN</td>\n",
       "      <td>HollyKinnamon</td>\n",
       "      <td>NaN</td>\n",
       "      <td>0</td>\n",
       "      <td>@AmericanAir I have been on hold w/customer se...</td>\n",
       "      <td>NaN</td>\n",
       "      <td>2015-02-24 10:53:55 -0800</td>\n",
       "      <td>Washington, DC</td>\n",
       "      <td>Quito</td>\n",
       "    </tr>\n",
       "    <tr>\n",
       "      <th>12097</th>\n",
       "      <td>570292403309035520</td>\n",
       "      <td>neutral</td>\n",
       "      <td>1.0</td>\n",
       "      <td>NaN</td>\n",
       "      <td>NaN</td>\n",
       "      <td>American</td>\n",
       "      <td>NaN</td>\n",
       "      <td>pbpinftworth</td>\n",
       "      <td>NaN</td>\n",
       "      <td>0</td>\n",
       "      <td>@AmericanAir @pbpinftworth iPhone 6 64GB (not ...</td>\n",
       "      <td>[32.82813261, -97.25115941]</td>\n",
       "      <td>2015-02-24 10:41:19 -0800</td>\n",
       "      <td>DFW, TX</td>\n",
       "      <td>Central Time (US &amp; Canada)</td>\n",
       "    </tr>\n",
       "    <tr>\n",
       "      <th>12099</th>\n",
       "      <td>570291157340704769</td>\n",
       "      <td>positive</td>\n",
       "      <td>1.0</td>\n",
       "      <td>NaN</td>\n",
       "      <td>NaN</td>\n",
       "      <td>American</td>\n",
       "      <td>NaN</td>\n",
       "      <td>mpresdenver</td>\n",
       "      <td>NaN</td>\n",
       "      <td>0</td>\n",
       "      <td>@AmericanAir thanks so much!</td>\n",
       "      <td>NaN</td>\n",
       "      <td>2015-02-24 10:36:22 -0800</td>\n",
       "      <td>Denver, Colorado</td>\n",
       "      <td>Mountain Time (US &amp; Canada)</td>\n",
       "    </tr>\n",
       "    <tr>\n",
       "      <th>12102</th>\n",
       "      <td>570290334158225408</td>\n",
       "      <td>positive</td>\n",
       "      <td>1.0</td>\n",
       "      <td>NaN</td>\n",
       "      <td>NaN</td>\n",
       "      <td>American</td>\n",
       "      <td>NaN</td>\n",
       "      <td>oobunillaoo</td>\n",
       "      <td>NaN</td>\n",
       "      <td>0</td>\n",
       "      <td>@AmericanAir thank you for the confirmation.</td>\n",
       "      <td>NaN</td>\n",
       "      <td>2015-02-24 10:33:05 -0800</td>\n",
       "      <td>usa::fr::uk</td>\n",
       "      <td>London</td>\n",
       "    </tr>\n",
       "    <tr>\n",
       "      <th>12105</th>\n",
       "      <td>570289085354541058</td>\n",
       "      <td>negative</td>\n",
       "      <td>1.0</td>\n",
       "      <td>Lost Luggage</td>\n",
       "      <td>1.0</td>\n",
       "      <td>American</td>\n",
       "      <td>NaN</td>\n",
       "      <td>brownsrock</td>\n",
       "      <td>NaN</td>\n",
       "      <td>0</td>\n",
       "      <td>@AmericanAir - Please find my bag!! In Singapo...</td>\n",
       "      <td>NaN</td>\n",
       "      <td>2015-02-24 10:28:08 -0800</td>\n",
       "      <td>Bangkok, Thailand</td>\n",
       "      <td>Bangkok</td>\n",
       "    </tr>\n",
       "    <tr>\n",
       "      <th>12106</th>\n",
       "      <td>570288809532891137</td>\n",
       "      <td>negative</td>\n",
       "      <td>1.0</td>\n",
       "      <td>Customer Service Issue</td>\n",
       "      <td>1.0</td>\n",
       "      <td>American</td>\n",
       "      <td>NaN</td>\n",
       "      <td>jkordyback</td>\n",
       "      <td>NaN</td>\n",
       "      <td>0</td>\n",
       "      <td>@AmericanAir “Inconvenient” is such a convenie...</td>\n",
       "      <td>NaN</td>\n",
       "      <td>2015-02-24 10:27:02 -0800</td>\n",
       "      <td>North Saanich, BC</td>\n",
       "      <td>Pacific Time (US &amp; Canada)</td>\n",
       "    </tr>\n",
       "    <tr>\n",
       "      <th>12108</th>\n",
       "      <td>570288167242375168</td>\n",
       "      <td>negative</td>\n",
       "      <td>1.0</td>\n",
       "      <td>Late Flight</td>\n",
       "      <td>1.0</td>\n",
       "      <td>American</td>\n",
       "      <td>NaN</td>\n",
       "      <td>aaronmsantos</td>\n",
       "      <td>NaN</td>\n",
       "      <td>0</td>\n",
       "      <td>@AmericanAir delayed on the way to Puerto Rico...</td>\n",
       "      <td>NaN</td>\n",
       "      <td>2015-02-24 10:24:29 -0800</td>\n",
       "      <td>Brooklyn, NY and all over.</td>\n",
       "      <td>Quito</td>\n",
       "    </tr>\n",
       "    <tr>\n",
       "      <th>12109</th>\n",
       "      <td>570287747643998208</td>\n",
       "      <td>negative</td>\n",
       "      <td>1.0</td>\n",
       "      <td>Lost Luggage</td>\n",
       "      <td>1.0</td>\n",
       "      <td>American</td>\n",
       "      <td>NaN</td>\n",
       "      <td>jacquelinewins6</td>\n",
       "      <td>NaN</td>\n",
       "      <td>0</td>\n",
       "      <td>@AmericanAir That's ok...You may keep my $25 a...</td>\n",
       "      <td>NaN</td>\n",
       "      <td>2015-02-24 10:22:49 -0800</td>\n",
       "      <td>NaN</td>\n",
       "      <td>NaN</td>\n",
       "    </tr>\n",
       "    <tr>\n",
       "      <th>12111</th>\n",
       "      <td>570287271234174976</td>\n",
       "      <td>neutral</td>\n",
       "      <td>1.0</td>\n",
       "      <td>NaN</td>\n",
       "      <td>NaN</td>\n",
       "      <td>American</td>\n",
       "      <td>NaN</td>\n",
       "      <td>IoanGil</td>\n",
       "      <td>NaN</td>\n",
       "      <td>0</td>\n",
       "      <td>@AmericanAir Here is the photo ;) http://t.co/...</td>\n",
       "      <td>NaN</td>\n",
       "      <td>2015-02-24 10:20:55 -0800</td>\n",
       "      <td>NaN</td>\n",
       "      <td>London</td>\n",
       "    </tr>\n",
       "    <tr>\n",
       "      <th>12118</th>\n",
       "      <td>570283851018317824</td>\n",
       "      <td>negative</td>\n",
       "      <td>1.0</td>\n",
       "      <td>Cancelled Flight</td>\n",
       "      <td>1.0</td>\n",
       "      <td>American</td>\n",
       "      <td>NaN</td>\n",
       "      <td>chagaga2013</td>\n",
       "      <td>NaN</td>\n",
       "      <td>0</td>\n",
       "      <td>@AmericanAir cost me over 200 dollars because ...</td>\n",
       "      <td>[40.68994668, -73.91637642]</td>\n",
       "      <td>2015-02-24 10:07:20 -0800</td>\n",
       "      <td>new york city</td>\n",
       "      <td>Central Time (US &amp; Canada)</td>\n",
       "    </tr>\n",
       "    <tr>\n",
       "      <th>12120</th>\n",
       "      <td>570283309093113856</td>\n",
       "      <td>neutral</td>\n",
       "      <td>1.0</td>\n",
       "      <td>NaN</td>\n",
       "      <td>NaN</td>\n",
       "      <td>American</td>\n",
       "      <td>NaN</td>\n",
       "      <td>pbpinftworth</td>\n",
       "      <td>NaN</td>\n",
       "      <td>0</td>\n",
       "      <td>@americanair Yes to the iOS. I'm running iOS 8...</td>\n",
       "      <td>NaN</td>\n",
       "      <td>2015-02-24 10:05:10 -0800</td>\n",
       "      <td>DFW, TX</td>\n",
       "      <td>Central Time (US &amp; Canada)</td>\n",
       "    </tr>\n",
       "    <tr>\n",
       "      <th>12126</th>\n",
       "      <td>570281731510571009</td>\n",
       "      <td>negative</td>\n",
       "      <td>1.0</td>\n",
       "      <td>Customer Service Issue</td>\n",
       "      <td>1.0</td>\n",
       "      <td>American</td>\n",
       "      <td>NaN</td>\n",
       "      <td>robkoenigld</td>\n",
       "      <td>NaN</td>\n",
       "      <td>0</td>\n",
       "      <td>@AmericanAir why am I continually getting put ...</td>\n",
       "      <td>NaN</td>\n",
       "      <td>2015-02-24 09:58:54 -0800</td>\n",
       "      <td>indialantic, fl</td>\n",
       "      <td>Eastern Time (US &amp; Canada)</td>\n",
       "    </tr>\n",
       "    <tr>\n",
       "      <th>12134</th>\n",
       "      <td>570279653337927680</td>\n",
       "      <td>positive</td>\n",
       "      <td>1.0</td>\n",
       "      <td>NaN</td>\n",
       "      <td>NaN</td>\n",
       "      <td>American</td>\n",
       "      <td>NaN</td>\n",
       "      <td>sundialtours</td>\n",
       "      <td>NaN</td>\n",
       "      <td>0</td>\n",
       "      <td>@AmericanAir \"Airport snow removal method #22....</td>\n",
       "      <td>NaN</td>\n",
       "      <td>2015-02-24 09:50:39 -0800</td>\n",
       "      <td>Astoria, OR</td>\n",
       "      <td>Tijuana</td>\n",
       "    </tr>\n",
       "    <tr>\n",
       "      <th>12136</th>\n",
       "      <td>570279220502511617</td>\n",
       "      <td>negative</td>\n",
       "      <td>1.0</td>\n",
       "      <td>Cancelled Flight</td>\n",
       "      <td>1.0</td>\n",
       "      <td>American</td>\n",
       "      <td>NaN</td>\n",
       "      <td>SusieBarre</td>\n",
       "      <td>NaN</td>\n",
       "      <td>0</td>\n",
       "      <td>@AmericanAir my flight 386 from Jacksonville f...</td>\n",
       "      <td>NaN</td>\n",
       "      <td>2015-02-24 09:48:56 -0800</td>\n",
       "      <td>NaN</td>\n",
       "      <td>NaN</td>\n",
       "    </tr>\n",
       "    <tr>\n",
       "      <th>12137</th>\n",
       "      <td>570279118438182913</td>\n",
       "      <td>positive</td>\n",
       "      <td>1.0</td>\n",
       "      <td>NaN</td>\n",
       "      <td>NaN</td>\n",
       "      <td>American</td>\n",
       "      <td>NaN</td>\n",
       "      <td>kdtate</td>\n",
       "      <td>NaN</td>\n",
       "      <td>0</td>\n",
       "      <td>@AmericanAir great, thanks!</td>\n",
       "      <td>NaN</td>\n",
       "      <td>2015-02-24 09:48:31 -0800</td>\n",
       "      <td>NaN</td>\n",
       "      <td>NaN</td>\n",
       "    </tr>\n",
       "    <tr>\n",
       "      <th>12138</th>\n",
       "      <td>570279036582109184</td>\n",
       "      <td>positive</td>\n",
       "      <td>1.0</td>\n",
       "      <td>NaN</td>\n",
       "      <td>NaN</td>\n",
       "      <td>American</td>\n",
       "      <td>NaN</td>\n",
       "      <td>hooton</td>\n",
       "      <td>NaN</td>\n",
       "      <td>0</td>\n",
       "      <td>@AmericanAir awesome. Thanks!</td>\n",
       "      <td>NaN</td>\n",
       "      <td>2015-02-24 09:48:12 -0800</td>\n",
       "      <td>Little Rock, AR</td>\n",
       "      <td>Central Time (US &amp; Canada)</td>\n",
       "    </tr>\n",
       "    <tr>\n",
       "      <th>12139</th>\n",
       "      <td>570278869133107201</td>\n",
       "      <td>negative</td>\n",
       "      <td>1.0</td>\n",
       "      <td>Cancelled Flight</td>\n",
       "      <td>1.0</td>\n",
       "      <td>American</td>\n",
       "      <td>NaN</td>\n",
       "      <td>SusieBarre</td>\n",
       "      <td>NaN</td>\n",
       "      <td>0</td>\n",
       "      <td>@AmericanAir my flight 386 to Dallas from Jack...</td>\n",
       "      <td>NaN</td>\n",
       "      <td>2015-02-24 09:47:32 -0800</td>\n",
       "      <td>NaN</td>\n",
       "      <td>NaN</td>\n",
       "    </tr>\n",
       "    <tr>\n",
       "      <th>12142</th>\n",
       "      <td>570276434763128833</td>\n",
       "      <td>negative</td>\n",
       "      <td>1.0</td>\n",
       "      <td>Flight Attendant Complaints</td>\n",
       "      <td>1.0</td>\n",
       "      <td>American</td>\n",
       "      <td>NaN</td>\n",
       "      <td>StefanNiemczyk</td>\n",
       "      <td>NaN</td>\n",
       "      <td>0</td>\n",
       "      <td>@AmericanAir but, what I can always rely on wh...</td>\n",
       "      <td>NaN</td>\n",
       "      <td>2015-02-24 09:37:51 -0800</td>\n",
       "      <td>NaN</td>\n",
       "      <td>Arizona</td>\n",
       "    </tr>\n",
       "    <tr>\n",
       "      <th>12145</th>\n",
       "      <td>570276196405125120</td>\n",
       "      <td>negative</td>\n",
       "      <td>1.0</td>\n",
       "      <td>Late Flight</td>\n",
       "      <td>1.0</td>\n",
       "      <td>American</td>\n",
       "      <td>NaN</td>\n",
       "      <td>mwecker</td>\n",
       "      <td>NaN</td>\n",
       "      <td>0</td>\n",
       "      <td>@AmericanAir Right. But more than two hours La...</td>\n",
       "      <td>NaN</td>\n",
       "      <td>2015-02-24 09:36:55 -0800</td>\n",
       "      <td>Washington, DC</td>\n",
       "      <td>Eastern Time (US &amp; Canada)</td>\n",
       "    </tr>\n",
       "    <tr>\n",
       "      <th>12152</th>\n",
       "      <td>570275384714862592</td>\n",
       "      <td>neutral</td>\n",
       "      <td>1.0</td>\n",
       "      <td>NaN</td>\n",
       "      <td>NaN</td>\n",
       "      <td>American</td>\n",
       "      <td>NaN</td>\n",
       "      <td>ItsMeLockett</td>\n",
       "      <td>NaN</td>\n",
       "      <td>0</td>\n",
       "      <td>@AmericanAir I know. Just a little cold weathe...</td>\n",
       "      <td>NaN</td>\n",
       "      <td>2015-02-24 09:33:41 -0800</td>\n",
       "      <td>USA</td>\n",
       "      <td>Central Time (US &amp; Canada)</td>\n",
       "    </tr>\n",
       "    <tr>\n",
       "      <th>12155</th>\n",
       "      <td>570275010759102466</td>\n",
       "      <td>negative</td>\n",
       "      <td>1.0</td>\n",
       "      <td>Lost Luggage</td>\n",
       "      <td>1.0</td>\n",
       "      <td>American</td>\n",
       "      <td>NaN</td>\n",
       "      <td>paintbranch1398</td>\n",
       "      <td>NaN</td>\n",
       "      <td>0</td>\n",
       "      <td>@AmericanAir this delayed bag was for my frien...</td>\n",
       "      <td>NaN</td>\n",
       "      <td>2015-02-24 09:32:12 -0800</td>\n",
       "      <td>NaN</td>\n",
       "      <td>NaN</td>\n",
       "    </tr>\n",
       "    <tr>\n",
       "      <th>12157</th>\n",
       "      <td>570273819287531520</td>\n",
       "      <td>positive</td>\n",
       "      <td>1.0</td>\n",
       "      <td>NaN</td>\n",
       "      <td>NaN</td>\n",
       "      <td>American</td>\n",
       "      <td>NaN</td>\n",
       "      <td>GoldensPleasure</td>\n",
       "      <td>NaN</td>\n",
       "      <td>0</td>\n",
       "      <td>@AmericanAir Aww Thanks AA..DFW was on GMA up ...</td>\n",
       "      <td>NaN</td>\n",
       "      <td>2015-02-24 09:27:28 -0800</td>\n",
       "      <td>East Coast     CT.</td>\n",
       "      <td>Central Time (US &amp; Canada)</td>\n",
       "    </tr>\n",
       "    <tr>\n",
       "      <th>12158</th>\n",
       "      <td>570273710210469888</td>\n",
       "      <td>positive</td>\n",
       "      <td>1.0</td>\n",
       "      <td>NaN</td>\n",
       "      <td>NaN</td>\n",
       "      <td>American</td>\n",
       "      <td>NaN</td>\n",
       "      <td>Mtts28</td>\n",
       "      <td>NaN</td>\n",
       "      <td>0</td>\n",
       "      <td>@AmericanAir These are some awesome photos. Th...</td>\n",
       "      <td>NaN</td>\n",
       "      <td>2015-02-24 09:27:02 -0800</td>\n",
       "      <td>Virginia</td>\n",
       "      <td>Eastern Time (US &amp; Canada)</td>\n",
       "    </tr>\n",
       "    <tr>\n",
       "      <th>12159</th>\n",
       "      <td>570272880556011520</td>\n",
       "      <td>positive</td>\n",
       "      <td>1.0</td>\n",
       "      <td>NaN</td>\n",
       "      <td>NaN</td>\n",
       "      <td>American</td>\n",
       "      <td>NaN</td>\n",
       "      <td>ESPartee</td>\n",
       "      <td>NaN</td>\n",
       "      <td>0</td>\n",
       "      <td>@americanair new plane, #gogo, easy power for ...</td>\n",
       "      <td>[0.0, 0.0]</td>\n",
       "      <td>2015-02-24 09:23:44 -0800</td>\n",
       "      <td>alexandria, va</td>\n",
       "      <td>Eastern Time (US &amp; Canada)</td>\n",
       "    </tr>\n",
       "    <tr>\n",
       "      <th>12162</th>\n",
       "      <td>570272018840428544</td>\n",
       "      <td>neutral</td>\n",
       "      <td>1.0</td>\n",
       "      <td>NaN</td>\n",
       "      <td>NaN</td>\n",
       "      <td>American</td>\n",
       "      <td>NaN</td>\n",
       "      <td>pokecrastinator</td>\n",
       "      <td>NaN</td>\n",
       "      <td>0</td>\n",
       "      <td>@AmericanAir I thought all those planes were r...</td>\n",
       "      <td>NaN</td>\n",
       "      <td>2015-02-24 09:20:19 -0800</td>\n",
       "      <td>United States</td>\n",
       "      <td>Mountain Time (US &amp; Canada)</td>\n",
       "    </tr>\n",
       "  </tbody>\n",
       "</table>\n",
       "</div>"
      ],
      "text/plain": [
       "                 tweet_id airline_sentiment  airline_sentiment_confidence  \\\n",
       "12040  570308309682675712          negative                           1.0   \n",
       "12059  570305051819941889           neutral                           1.0   \n",
       "12063  570303383782989824           neutral                           1.0   \n",
       "12066  570301929580048385           neutral                           1.0   \n",
       "12068  570301395141836801          negative                           1.0   \n",
       "12069  570300915418320897          negative                           1.0   \n",
       "12074  570299252141903873          positive                           1.0   \n",
       "12075  570298770136674304          negative                           1.0   \n",
       "12078  570298644475346945          negative                           1.0   \n",
       "12079  570298371140939776          negative                           1.0   \n",
       "12086  570296996445204480          negative                           1.0   \n",
       "12093  570295576446808065          negative                           1.0   \n",
       "12097  570292403309035520           neutral                           1.0   \n",
       "12099  570291157340704769          positive                           1.0   \n",
       "12102  570290334158225408          positive                           1.0   \n",
       "12105  570289085354541058          negative                           1.0   \n",
       "12106  570288809532891137          negative                           1.0   \n",
       "12108  570288167242375168          negative                           1.0   \n",
       "12109  570287747643998208          negative                           1.0   \n",
       "12111  570287271234174976           neutral                           1.0   \n",
       "12118  570283851018317824          negative                           1.0   \n",
       "12120  570283309093113856           neutral                           1.0   \n",
       "12126  570281731510571009          negative                           1.0   \n",
       "12134  570279653337927680          positive                           1.0   \n",
       "12136  570279220502511617          negative                           1.0   \n",
       "12137  570279118438182913          positive                           1.0   \n",
       "12138  570279036582109184          positive                           1.0   \n",
       "12139  570278869133107201          negative                           1.0   \n",
       "12142  570276434763128833          negative                           1.0   \n",
       "12145  570276196405125120          negative                           1.0   \n",
       "12152  570275384714862592           neutral                           1.0   \n",
       "12155  570275010759102466          negative                           1.0   \n",
       "12157  570273819287531520          positive                           1.0   \n",
       "12158  570273710210469888          positive                           1.0   \n",
       "12159  570272880556011520          positive                           1.0   \n",
       "12162  570272018840428544           neutral                           1.0   \n",
       "\n",
       "                    negativereason  negativereason_confidence   airline  \\\n",
       "12040       Customer Service Issue                        1.0  American   \n",
       "12059                          NaN                        NaN  American   \n",
       "12063                          NaN                        NaN  American   \n",
       "12066                          NaN                        NaN  American   \n",
       "12068                  Late Flight                        1.0  American   \n",
       "12069             Cancelled Flight                        1.0  American   \n",
       "12074                          NaN                        NaN  American   \n",
       "12075       Customer Service Issue                        1.0  American   \n",
       "12078       Customer Service Issue                        1.0  American   \n",
       "12079                  Late Flight                        1.0  American   \n",
       "12086                  Late Flight                        1.0  American   \n",
       "12093       Customer Service Issue                        1.0  American   \n",
       "12097                          NaN                        NaN  American   \n",
       "12099                          NaN                        NaN  American   \n",
       "12102                          NaN                        NaN  American   \n",
       "12105                 Lost Luggage                        1.0  American   \n",
       "12106       Customer Service Issue                        1.0  American   \n",
       "12108                  Late Flight                        1.0  American   \n",
       "12109                 Lost Luggage                        1.0  American   \n",
       "12111                          NaN                        NaN  American   \n",
       "12118             Cancelled Flight                        1.0  American   \n",
       "12120                          NaN                        NaN  American   \n",
       "12126       Customer Service Issue                        1.0  American   \n",
       "12134                          NaN                        NaN  American   \n",
       "12136             Cancelled Flight                        1.0  American   \n",
       "12137                          NaN                        NaN  American   \n",
       "12138                          NaN                        NaN  American   \n",
       "12139             Cancelled Flight                        1.0  American   \n",
       "12142  Flight Attendant Complaints                        1.0  American   \n",
       "12145                  Late Flight                        1.0  American   \n",
       "12152                          NaN                        NaN  American   \n",
       "12155                 Lost Luggage                        1.0  American   \n",
       "12157                          NaN                        NaN  American   \n",
       "12158                          NaN                        NaN  American   \n",
       "12159                          NaN                        NaN  American   \n",
       "12162                          NaN                        NaN  American   \n",
       "\n",
       "      airline_sentiment_gold             name negativereason_gold  \\\n",
       "12040                    NaN       SweeLoTmac                 NaN   \n",
       "12059                    NaN    Chandrafaythe                 NaN   \n",
       "12063                    NaN   trentgillaspie                 NaN   \n",
       "12066                    NaN        FinEdChat                 NaN   \n",
       "12068                    NaN       JoBarredaV                 NaN   \n",
       "12069                    NaN  LancasterPattie                 NaN   \n",
       "12074                    NaN           Mtts28                 NaN   \n",
       "12075                    NaN         law_econ                 NaN   \n",
       "12078                    NaN      denismishin                 NaN   \n",
       "12079                    NaN      djjohnpayne                 NaN   \n",
       "12086                    NaN     aaronmsantos                 NaN   \n",
       "12093                    NaN    HollyKinnamon                 NaN   \n",
       "12097                    NaN     pbpinftworth                 NaN   \n",
       "12099                    NaN      mpresdenver                 NaN   \n",
       "12102                    NaN      oobunillaoo                 NaN   \n",
       "12105                    NaN       brownsrock                 NaN   \n",
       "12106                    NaN       jkordyback                 NaN   \n",
       "12108                    NaN     aaronmsantos                 NaN   \n",
       "12109                    NaN  jacquelinewins6                 NaN   \n",
       "12111                    NaN          IoanGil                 NaN   \n",
       "12118                    NaN      chagaga2013                 NaN   \n",
       "12120                    NaN     pbpinftworth                 NaN   \n",
       "12126                    NaN      robkoenigld                 NaN   \n",
       "12134                    NaN     sundialtours                 NaN   \n",
       "12136                    NaN       SusieBarre                 NaN   \n",
       "12137                    NaN           kdtate                 NaN   \n",
       "12138                    NaN           hooton                 NaN   \n",
       "12139                    NaN       SusieBarre                 NaN   \n",
       "12142                    NaN   StefanNiemczyk                 NaN   \n",
       "12145                    NaN          mwecker                 NaN   \n",
       "12152                    NaN     ItsMeLockett                 NaN   \n",
       "12155                    NaN  paintbranch1398                 NaN   \n",
       "12157                    NaN  GoldensPleasure                 NaN   \n",
       "12158                    NaN           Mtts28                 NaN   \n",
       "12159                    NaN         ESPartee                 NaN   \n",
       "12162                    NaN  pokecrastinator                 NaN   \n",
       "\n",
       "       retweet_count                                               text  \\\n",
       "12040              0  @AmericanAir why would I even consider continu...   \n",
       "12059              0  @AmericanAir my flight got Cancelled Flightled...   \n",
       "12063              0  .@AmericanAir just disappointed with the Fligh...   \n",
       "12066              0                                 @AmericanAir I did   \n",
       "12068              1  @AmericanAir r u serious?? 304min #delay with ...   \n",
       "12069              0  @AmericanAir You are jumping the gun and Cance...   \n",
       "12074              0  @AmericanAir This is exactly why ill be flying...   \n",
       "12075              0  @AmericanAir This doesn't address my issue. I ...   \n",
       "12078              0  @AmericanAir submitted a case to AA customer r...   \n",
       "12079              0  @AmericanAir if by near the gate you mean sitt...   \n",
       "12086              0  @AmericanAir that's 16+ extra hours of travel ...   \n",
       "12093              0  @AmericanAir I have been on hold w/customer se...   \n",
       "12097              0  @AmericanAir @pbpinftworth iPhone 6 64GB (not ...   \n",
       "12099              0                       @AmericanAir thanks so much!   \n",
       "12102              0       @AmericanAir thank you for the confirmation.   \n",
       "12105              0  @AmericanAir - Please find my bag!! In Singapo...   \n",
       "12106              0  @AmericanAir “Inconvenient” is such a convenie...   \n",
       "12108              0  @AmericanAir delayed on the way to Puerto Rico...   \n",
       "12109              0  @AmericanAir That's ok...You may keep my $25 a...   \n",
       "12111              0  @AmericanAir Here is the photo ;) http://t.co/...   \n",
       "12118              0  @AmericanAir cost me over 200 dollars because ...   \n",
       "12120              0  @americanair Yes to the iOS. I'm running iOS 8...   \n",
       "12126              0  @AmericanAir why am I continually getting put ...   \n",
       "12134              0  @AmericanAir \"Airport snow removal method #22....   \n",
       "12136              0  @AmericanAir my flight 386 from Jacksonville f...   \n",
       "12137              0                        @AmericanAir great, thanks!   \n",
       "12138              0                      @AmericanAir awesome. Thanks!   \n",
       "12139              0  @AmericanAir my flight 386 to Dallas from Jack...   \n",
       "12142              0  @AmericanAir but, what I can always rely on wh...   \n",
       "12145              0  @AmericanAir Right. But more than two hours La...   \n",
       "12152              0  @AmericanAir I know. Just a little cold weathe...   \n",
       "12155              0  @AmericanAir this delayed bag was for my frien...   \n",
       "12157              0  @AmericanAir Aww Thanks AA..DFW was on GMA up ...   \n",
       "12158              0  @AmericanAir These are some awesome photos. Th...   \n",
       "12159              0  @americanair new plane, #gogo, easy power for ...   \n",
       "12162              0  @AmericanAir I thought all those planes were r...   \n",
       "\n",
       "                       tweet_coord              tweet_created  \\\n",
       "12040                          NaN  2015-02-24 11:44:31 -0800   \n",
       "12059                          NaN  2015-02-24 11:31:34 -0800   \n",
       "12063                          NaN  2015-02-24 11:24:57 -0800   \n",
       "12066                          NaN  2015-02-24 11:19:10 -0800   \n",
       "12068                          NaN  2015-02-24 11:17:02 -0800   \n",
       "12069                          NaN  2015-02-24 11:15:08 -0800   \n",
       "12074                          NaN  2015-02-24 11:08:32 -0800   \n",
       "12075                          NaN  2015-02-24 11:06:37 -0800   \n",
       "12078                          NaN  2015-02-24 11:06:07 -0800   \n",
       "12079                   [0.0, 0.0]  2015-02-24 11:05:01 -0800   \n",
       "12086                          NaN  2015-02-24 10:59:34 -0800   \n",
       "12093                          NaN  2015-02-24 10:53:55 -0800   \n",
       "12097  [32.82813261, -97.25115941]  2015-02-24 10:41:19 -0800   \n",
       "12099                          NaN  2015-02-24 10:36:22 -0800   \n",
       "12102                          NaN  2015-02-24 10:33:05 -0800   \n",
       "12105                          NaN  2015-02-24 10:28:08 -0800   \n",
       "12106                          NaN  2015-02-24 10:27:02 -0800   \n",
       "12108                          NaN  2015-02-24 10:24:29 -0800   \n",
       "12109                          NaN  2015-02-24 10:22:49 -0800   \n",
       "12111                          NaN  2015-02-24 10:20:55 -0800   \n",
       "12118  [40.68994668, -73.91637642]  2015-02-24 10:07:20 -0800   \n",
       "12120                          NaN  2015-02-24 10:05:10 -0800   \n",
       "12126                          NaN  2015-02-24 09:58:54 -0800   \n",
       "12134                          NaN  2015-02-24 09:50:39 -0800   \n",
       "12136                          NaN  2015-02-24 09:48:56 -0800   \n",
       "12137                          NaN  2015-02-24 09:48:31 -0800   \n",
       "12138                          NaN  2015-02-24 09:48:12 -0800   \n",
       "12139                          NaN  2015-02-24 09:47:32 -0800   \n",
       "12142                          NaN  2015-02-24 09:37:51 -0800   \n",
       "12145                          NaN  2015-02-24 09:36:55 -0800   \n",
       "12152                          NaN  2015-02-24 09:33:41 -0800   \n",
       "12155                          NaN  2015-02-24 09:32:12 -0800   \n",
       "12157                          NaN  2015-02-24 09:27:28 -0800   \n",
       "12158                          NaN  2015-02-24 09:27:02 -0800   \n",
       "12159                   [0.0, 0.0]  2015-02-24 09:23:44 -0800   \n",
       "12162                          NaN  2015-02-24 09:20:19 -0800   \n",
       "\n",
       "                   tweet_location                user_timezone  \n",
       "12040                         NaN                        Quito  \n",
       "12059                         NaN                        Quito  \n",
       "12063    Austin, but often Denver  Mountain Time (US & Canada)  \n",
       "12066            Cincinnati, Ohio       Atlantic Time (Canada)  \n",
       "12068                 Mexico City   Central Time (US & Canada)  \n",
       "12069                         NaN                          NaN  \n",
       "12074                    Virginia   Eastern Time (US & Canada)  \n",
       "12075           Newport Beach, CA   Central Time (US & Canada)  \n",
       "12078                Bellevue, WA   Eastern Time (US & Canada)  \n",
       "12079               Las Vegas, NV   Pacific Time (US & Canada)  \n",
       "12086  Brooklyn, NY and all over.                        Quito  \n",
       "12093              Washington, DC                        Quito  \n",
       "12097                     DFW, TX   Central Time (US & Canada)  \n",
       "12099            Denver, Colorado  Mountain Time (US & Canada)  \n",
       "12102                 usa::fr::uk                       London  \n",
       "12105           Bangkok, Thailand                      Bangkok  \n",
       "12106           North Saanich, BC   Pacific Time (US & Canada)  \n",
       "12108  Brooklyn, NY and all over.                        Quito  \n",
       "12109                         NaN                          NaN  \n",
       "12111                         NaN                       London  \n",
       "12118               new york city   Central Time (US & Canada)  \n",
       "12120                     DFW, TX   Central Time (US & Canada)  \n",
       "12126             indialantic, fl   Eastern Time (US & Canada)  \n",
       "12134                 Astoria, OR                      Tijuana  \n",
       "12136                         NaN                          NaN  \n",
       "12137                         NaN                          NaN  \n",
       "12138             Little Rock, AR   Central Time (US & Canada)  \n",
       "12139                         NaN                          NaN  \n",
       "12142                         NaN                      Arizona  \n",
       "12145              Washington, DC   Eastern Time (US & Canada)  \n",
       "12152                         USA   Central Time (US & Canada)  \n",
       "12155                         NaN                          NaN  \n",
       "12157          East Coast     CT.   Central Time (US & Canada)  \n",
       "12158                    Virginia   Eastern Time (US & Canada)  \n",
       "12159              alexandria, va   Eastern Time (US & Canada)  \n",
       "12162               United States  Mountain Time (US & Canada)  "
      ]
     },
     "execution_count": 11,
     "metadata": {},
     "output_type": "execute_result"
    }
   ],
   "source": [
    "data.loc[data.duplicated(),:]"
   ]
  },
  {
   "cell_type": "code",
   "execution_count": 12,
   "id": "f9508304",
   "metadata": {},
   "outputs": [],
   "source": [
    "#drop the duplicate values\n",
    "data.drop_duplicates(inplace=True)"
   ]
  },
  {
   "cell_type": "markdown",
   "id": "b7365208",
   "metadata": {},
   "source": [
    "## Basic Preprocessing\n",
    "- Removing tags\n",
    "- lowercasing\n",
    "- removing punctuations\n",
    "- removing stopwords\n",
    "- lemmatization"
   ]
  },
  {
   "cell_type": "markdown",
   "id": "39804317",
   "metadata": {},
   "source": [
    "#### Removing HTML tags"
   ]
  },
  {
   "cell_type": "code",
   "execution_count": 13,
   "id": "fe4f9d95",
   "metadata": {},
   "outputs": [],
   "source": [
    "import re\n",
    "def remove_tags(raw_text):\n",
    "    cleaned_text = re.sub(re.compile('<.*?>'), '', raw_text)\n",
    "    return cleaned_text\n",
    "\n",
    "data['text'] = data['text'].apply(remove_tags)"
   ]
  },
  {
   "cell_type": "code",
   "execution_count": 14,
   "id": "a94dda90",
   "metadata": {},
   "outputs": [
    {
     "data": {
      "text/plain": [
       "\"@VirginAmerica it was amazing, and arrived an hour early. You're too good to me.\""
      ]
     },
     "execution_count": 14,
     "metadata": {},
     "output_type": "execute_result"
    }
   ],
   "source": [
    "data['text'][9]"
   ]
  },
  {
   "cell_type": "markdown",
   "id": "96979b50",
   "metadata": {},
   "source": [
    "#### Lowercasing"
   ]
  },
  {
   "cell_type": "code",
   "execution_count": 15,
   "id": "045b473d",
   "metadata": {},
   "outputs": [],
   "source": [
    "data['text'] = data['text'].apply(lambda x:x.lower())"
   ]
  },
  {
   "cell_type": "markdown",
   "id": "7722a3ef",
   "metadata": {},
   "source": [
    "#### Removing Punctuations"
   ]
  },
  {
   "cell_type": "code",
   "execution_count": 16,
   "id": "0062ec50",
   "metadata": {},
   "outputs": [],
   "source": [
    "PUNCT_TO_REMOVE = string.punctuation\n",
    "def remove_punctuation(text):\n",
    "    \"\"\"custom function to remove the punctuation\"\"\"\n",
    "    return text.translate(str.maketrans('', '', PUNCT_TO_REMOVE))\n",
    "\n",
    "\n",
    "data['text'] = data['text'].apply(lambda text: remove_punctuation(text))"
   ]
  },
  {
   "cell_type": "markdown",
   "id": "d3849b99",
   "metadata": {},
   "source": [
    "#### Removing stopwords"
   ]
  },
  {
   "cell_type": "code",
   "execution_count": 17,
   "id": "935ea8af",
   "metadata": {},
   "outputs": [],
   "source": [
    "from nltk.corpus import stopwords\n",
    "\n",
    "sw_list = stopwords.words('english')\n",
    "\n",
    "data['text'] = data['text'].apply(lambda x: [item for item in x.split() if item not in sw_list]).apply(lambda x:\" \".join(x))"
   ]
  },
  {
   "cell_type": "code",
   "execution_count": 18,
   "id": "5172de4b",
   "metadata": {},
   "outputs": [
    {
     "data": {
      "text/plain": [
       "'virginamerica amazing arrived hour early youre good'"
      ]
     },
     "execution_count": 18,
     "metadata": {},
     "output_type": "execute_result"
    }
   ],
   "source": [
    "data['text'][9]"
   ]
  },
  {
   "cell_type": "code",
   "execution_count": 19,
   "id": "a61861ad",
   "metadata": {},
   "outputs": [
    {
     "data": {
      "text/html": [
       "<div>\n",
       "<style scoped>\n",
       "    .dataframe tbody tr th:only-of-type {\n",
       "        vertical-align: middle;\n",
       "    }\n",
       "\n",
       "    .dataframe tbody tr th {\n",
       "        vertical-align: top;\n",
       "    }\n",
       "\n",
       "    .dataframe thead th {\n",
       "        text-align: right;\n",
       "    }\n",
       "</style>\n",
       "<table border=\"1\" class=\"dataframe\">\n",
       "  <thead>\n",
       "    <tr style=\"text-align: right;\">\n",
       "      <th></th>\n",
       "      <th>tweet_id</th>\n",
       "      <th>airline_sentiment</th>\n",
       "      <th>airline_sentiment_confidence</th>\n",
       "      <th>negativereason</th>\n",
       "      <th>negativereason_confidence</th>\n",
       "      <th>airline</th>\n",
       "      <th>airline_sentiment_gold</th>\n",
       "      <th>name</th>\n",
       "      <th>negativereason_gold</th>\n",
       "      <th>retweet_count</th>\n",
       "      <th>text</th>\n",
       "      <th>tweet_coord</th>\n",
       "      <th>tweet_created</th>\n",
       "      <th>tweet_location</th>\n",
       "      <th>user_timezone</th>\n",
       "    </tr>\n",
       "  </thead>\n",
       "  <tbody>\n",
       "    <tr>\n",
       "      <th>0</th>\n",
       "      <td>570306133677760513</td>\n",
       "      <td>neutral</td>\n",
       "      <td>1.0000</td>\n",
       "      <td>NaN</td>\n",
       "      <td>NaN</td>\n",
       "      <td>Virgin America</td>\n",
       "      <td>NaN</td>\n",
       "      <td>cairdin</td>\n",
       "      <td>NaN</td>\n",
       "      <td>0</td>\n",
       "      <td>virginamerica dhepburn said</td>\n",
       "      <td>NaN</td>\n",
       "      <td>2015-02-24 11:35:52 -0800</td>\n",
       "      <td>NaN</td>\n",
       "      <td>Eastern Time (US &amp; Canada)</td>\n",
       "    </tr>\n",
       "    <tr>\n",
       "      <th>1</th>\n",
       "      <td>570301130888122368</td>\n",
       "      <td>positive</td>\n",
       "      <td>0.3486</td>\n",
       "      <td>NaN</td>\n",
       "      <td>0.0000</td>\n",
       "      <td>Virgin America</td>\n",
       "      <td>NaN</td>\n",
       "      <td>jnardino</td>\n",
       "      <td>NaN</td>\n",
       "      <td>0</td>\n",
       "      <td>virginamerica plus youve added commercials exp...</td>\n",
       "      <td>NaN</td>\n",
       "      <td>2015-02-24 11:15:59 -0800</td>\n",
       "      <td>NaN</td>\n",
       "      <td>Pacific Time (US &amp; Canada)</td>\n",
       "    </tr>\n",
       "    <tr>\n",
       "      <th>2</th>\n",
       "      <td>570301083672813571</td>\n",
       "      <td>neutral</td>\n",
       "      <td>0.6837</td>\n",
       "      <td>NaN</td>\n",
       "      <td>NaN</td>\n",
       "      <td>Virgin America</td>\n",
       "      <td>NaN</td>\n",
       "      <td>yvonnalynn</td>\n",
       "      <td>NaN</td>\n",
       "      <td>0</td>\n",
       "      <td>virginamerica didnt today must mean need take ...</td>\n",
       "      <td>NaN</td>\n",
       "      <td>2015-02-24 11:15:48 -0800</td>\n",
       "      <td>Lets Play</td>\n",
       "      <td>Central Time (US &amp; Canada)</td>\n",
       "    </tr>\n",
       "    <tr>\n",
       "      <th>3</th>\n",
       "      <td>570301031407624196</td>\n",
       "      <td>negative</td>\n",
       "      <td>1.0000</td>\n",
       "      <td>Bad Flight</td>\n",
       "      <td>0.7033</td>\n",
       "      <td>Virgin America</td>\n",
       "      <td>NaN</td>\n",
       "      <td>jnardino</td>\n",
       "      <td>NaN</td>\n",
       "      <td>0</td>\n",
       "      <td>virginamerica really aggressive blast obnoxiou...</td>\n",
       "      <td>NaN</td>\n",
       "      <td>2015-02-24 11:15:36 -0800</td>\n",
       "      <td>NaN</td>\n",
       "      <td>Pacific Time (US &amp; Canada)</td>\n",
       "    </tr>\n",
       "    <tr>\n",
       "      <th>4</th>\n",
       "      <td>570300817074462722</td>\n",
       "      <td>negative</td>\n",
       "      <td>1.0000</td>\n",
       "      <td>Can't Tell</td>\n",
       "      <td>1.0000</td>\n",
       "      <td>Virgin America</td>\n",
       "      <td>NaN</td>\n",
       "      <td>jnardino</td>\n",
       "      <td>NaN</td>\n",
       "      <td>0</td>\n",
       "      <td>virginamerica really big bad thing</td>\n",
       "      <td>NaN</td>\n",
       "      <td>2015-02-24 11:14:45 -0800</td>\n",
       "      <td>NaN</td>\n",
       "      <td>Pacific Time (US &amp; Canada)</td>\n",
       "    </tr>\n",
       "  </tbody>\n",
       "</table>\n",
       "</div>"
      ],
      "text/plain": [
       "             tweet_id airline_sentiment  airline_sentiment_confidence  \\\n",
       "0  570306133677760513           neutral                        1.0000   \n",
       "1  570301130888122368          positive                        0.3486   \n",
       "2  570301083672813571           neutral                        0.6837   \n",
       "3  570301031407624196          negative                        1.0000   \n",
       "4  570300817074462722          negative                        1.0000   \n",
       "\n",
       "  negativereason  negativereason_confidence         airline  \\\n",
       "0            NaN                        NaN  Virgin America   \n",
       "1            NaN                     0.0000  Virgin America   \n",
       "2            NaN                        NaN  Virgin America   \n",
       "3     Bad Flight                     0.7033  Virgin America   \n",
       "4     Can't Tell                     1.0000  Virgin America   \n",
       "\n",
       "  airline_sentiment_gold        name negativereason_gold  retweet_count  \\\n",
       "0                    NaN     cairdin                 NaN              0   \n",
       "1                    NaN    jnardino                 NaN              0   \n",
       "2                    NaN  yvonnalynn                 NaN              0   \n",
       "3                    NaN    jnardino                 NaN              0   \n",
       "4                    NaN    jnardino                 NaN              0   \n",
       "\n",
       "                                                text tweet_coord  \\\n",
       "0                        virginamerica dhepburn said         NaN   \n",
       "1  virginamerica plus youve added commercials exp...         NaN   \n",
       "2  virginamerica didnt today must mean need take ...         NaN   \n",
       "3  virginamerica really aggressive blast obnoxiou...         NaN   \n",
       "4                 virginamerica really big bad thing         NaN   \n",
       "\n",
       "               tweet_created tweet_location               user_timezone  \n",
       "0  2015-02-24 11:35:52 -0800            NaN  Eastern Time (US & Canada)  \n",
       "1  2015-02-24 11:15:59 -0800            NaN  Pacific Time (US & Canada)  \n",
       "2  2015-02-24 11:15:48 -0800      Lets Play  Central Time (US & Canada)  \n",
       "3  2015-02-24 11:15:36 -0800            NaN  Pacific Time (US & Canada)  \n",
       "4  2015-02-24 11:14:45 -0800            NaN  Pacific Time (US & Canada)  "
      ]
     },
     "execution_count": 19,
     "metadata": {},
     "output_type": "execute_result"
    }
   ],
   "source": [
    "data.head(5)"
   ]
  },
  {
   "cell_type": "markdown",
   "id": "c4ea7603",
   "metadata": {},
   "source": [
    "#### Lemmatization"
   ]
  },
  {
   "cell_type": "code",
   "execution_count": 20,
   "id": "c1a22326",
   "metadata": {},
   "outputs": [
    {
     "data": {
      "text/html": [
       "<div>\n",
       "<style scoped>\n",
       "    .dataframe tbody tr th:only-of-type {\n",
       "        vertical-align: middle;\n",
       "    }\n",
       "\n",
       "    .dataframe tbody tr th {\n",
       "        vertical-align: top;\n",
       "    }\n",
       "\n",
       "    .dataframe thead th {\n",
       "        text-align: right;\n",
       "    }\n",
       "</style>\n",
       "<table border=\"1\" class=\"dataframe\">\n",
       "  <thead>\n",
       "    <tr style=\"text-align: right;\">\n",
       "      <th></th>\n",
       "      <th>tweet_id</th>\n",
       "      <th>airline_sentiment</th>\n",
       "      <th>airline_sentiment_confidence</th>\n",
       "      <th>negativereason</th>\n",
       "      <th>negativereason_confidence</th>\n",
       "      <th>airline</th>\n",
       "      <th>airline_sentiment_gold</th>\n",
       "      <th>name</th>\n",
       "      <th>negativereason_gold</th>\n",
       "      <th>retweet_count</th>\n",
       "      <th>text</th>\n",
       "      <th>tweet_coord</th>\n",
       "      <th>tweet_created</th>\n",
       "      <th>tweet_location</th>\n",
       "      <th>user_timezone</th>\n",
       "    </tr>\n",
       "  </thead>\n",
       "  <tbody>\n",
       "    <tr>\n",
       "      <th>0</th>\n",
       "      <td>570306133677760513</td>\n",
       "      <td>neutral</td>\n",
       "      <td>1.0000</td>\n",
       "      <td>NaN</td>\n",
       "      <td>NaN</td>\n",
       "      <td>Virgin America</td>\n",
       "      <td>NaN</td>\n",
       "      <td>cairdin</td>\n",
       "      <td>NaN</td>\n",
       "      <td>0</td>\n",
       "      <td>virginamerica dhepburn said</td>\n",
       "      <td>NaN</td>\n",
       "      <td>2015-02-24 11:35:52 -0800</td>\n",
       "      <td>NaN</td>\n",
       "      <td>Eastern Time (US &amp; Canada)</td>\n",
       "    </tr>\n",
       "    <tr>\n",
       "      <th>1</th>\n",
       "      <td>570301130888122368</td>\n",
       "      <td>positive</td>\n",
       "      <td>0.3486</td>\n",
       "      <td>NaN</td>\n",
       "      <td>0.0000</td>\n",
       "      <td>Virgin America</td>\n",
       "      <td>NaN</td>\n",
       "      <td>jnardino</td>\n",
       "      <td>NaN</td>\n",
       "      <td>0</td>\n",
       "      <td>virginamerica plus youve added commercial expe...</td>\n",
       "      <td>NaN</td>\n",
       "      <td>2015-02-24 11:15:59 -0800</td>\n",
       "      <td>NaN</td>\n",
       "      <td>Pacific Time (US &amp; Canada)</td>\n",
       "    </tr>\n",
       "    <tr>\n",
       "      <th>2</th>\n",
       "      <td>570301083672813571</td>\n",
       "      <td>neutral</td>\n",
       "      <td>0.6837</td>\n",
       "      <td>NaN</td>\n",
       "      <td>NaN</td>\n",
       "      <td>Virgin America</td>\n",
       "      <td>NaN</td>\n",
       "      <td>yvonnalynn</td>\n",
       "      <td>NaN</td>\n",
       "      <td>0</td>\n",
       "      <td>virginamerica didnt today must mean need take ...</td>\n",
       "      <td>NaN</td>\n",
       "      <td>2015-02-24 11:15:48 -0800</td>\n",
       "      <td>Lets Play</td>\n",
       "      <td>Central Time (US &amp; Canada)</td>\n",
       "    </tr>\n",
       "    <tr>\n",
       "      <th>3</th>\n",
       "      <td>570301031407624196</td>\n",
       "      <td>negative</td>\n",
       "      <td>1.0000</td>\n",
       "      <td>Bad Flight</td>\n",
       "      <td>0.7033</td>\n",
       "      <td>Virgin America</td>\n",
       "      <td>NaN</td>\n",
       "      <td>jnardino</td>\n",
       "      <td>NaN</td>\n",
       "      <td>0</td>\n",
       "      <td>virginamerica really aggressive blast obnoxiou...</td>\n",
       "      <td>NaN</td>\n",
       "      <td>2015-02-24 11:15:36 -0800</td>\n",
       "      <td>NaN</td>\n",
       "      <td>Pacific Time (US &amp; Canada)</td>\n",
       "    </tr>\n",
       "    <tr>\n",
       "      <th>4</th>\n",
       "      <td>570300817074462722</td>\n",
       "      <td>negative</td>\n",
       "      <td>1.0000</td>\n",
       "      <td>Can't Tell</td>\n",
       "      <td>1.0000</td>\n",
       "      <td>Virgin America</td>\n",
       "      <td>NaN</td>\n",
       "      <td>jnardino</td>\n",
       "      <td>NaN</td>\n",
       "      <td>0</td>\n",
       "      <td>virginamerica really big bad thing</td>\n",
       "      <td>NaN</td>\n",
       "      <td>2015-02-24 11:14:45 -0800</td>\n",
       "      <td>NaN</td>\n",
       "      <td>Pacific Time (US &amp; Canada)</td>\n",
       "    </tr>\n",
       "  </tbody>\n",
       "</table>\n",
       "</div>"
      ],
      "text/plain": [
       "             tweet_id airline_sentiment  airline_sentiment_confidence  \\\n",
       "0  570306133677760513           neutral                        1.0000   \n",
       "1  570301130888122368          positive                        0.3486   \n",
       "2  570301083672813571           neutral                        0.6837   \n",
       "3  570301031407624196          negative                        1.0000   \n",
       "4  570300817074462722          negative                        1.0000   \n",
       "\n",
       "  negativereason  negativereason_confidence         airline  \\\n",
       "0            NaN                        NaN  Virgin America   \n",
       "1            NaN                     0.0000  Virgin America   \n",
       "2            NaN                        NaN  Virgin America   \n",
       "3     Bad Flight                     0.7033  Virgin America   \n",
       "4     Can't Tell                     1.0000  Virgin America   \n",
       "\n",
       "  airline_sentiment_gold        name negativereason_gold  retweet_count  \\\n",
       "0                    NaN     cairdin                 NaN              0   \n",
       "1                    NaN    jnardino                 NaN              0   \n",
       "2                    NaN  yvonnalynn                 NaN              0   \n",
       "3                    NaN    jnardino                 NaN              0   \n",
       "4                    NaN    jnardino                 NaN              0   \n",
       "\n",
       "                                                text tweet_coord  \\\n",
       "0                        virginamerica dhepburn said         NaN   \n",
       "1  virginamerica plus youve added commercial expe...         NaN   \n",
       "2  virginamerica didnt today must mean need take ...         NaN   \n",
       "3  virginamerica really aggressive blast obnoxiou...         NaN   \n",
       "4                 virginamerica really big bad thing         NaN   \n",
       "\n",
       "               tweet_created tweet_location               user_timezone  \n",
       "0  2015-02-24 11:35:52 -0800            NaN  Eastern Time (US & Canada)  \n",
       "1  2015-02-24 11:15:59 -0800            NaN  Pacific Time (US & Canada)  \n",
       "2  2015-02-24 11:15:48 -0800      Lets Play  Central Time (US & Canada)  \n",
       "3  2015-02-24 11:15:36 -0800            NaN  Pacific Time (US & Canada)  \n",
       "4  2015-02-24 11:14:45 -0800            NaN  Pacific Time (US & Canada)  "
      ]
     },
     "execution_count": 20,
     "metadata": {},
     "output_type": "execute_result"
    }
   ],
   "source": [
    "from nltk.stem import WordNetLemmatizer\n",
    "\n",
    "lemmatizer = WordNetLemmatizer()\n",
    "def lemmatize_words(text):\n",
    "    return \" \".join([lemmatizer.lemmatize(word) for word in text.split()])\n",
    "\n",
    "data['text'] = data['text'].apply(lambda text: lemmatize_words(text))\n",
    "data.head()"
   ]
  },
  {
   "cell_type": "markdown",
   "id": "c5c63b61",
   "metadata": {},
   "source": [
    "## Feature Extraction Techniques:\n",
    "- BOW\n",
    "- TF-IDF\n",
    "- Word2Vec"
   ]
  },
  {
   "cell_type": "code",
   "execution_count": 21,
   "id": "db16dcc6",
   "metadata": {},
   "outputs": [
    {
     "data": {
      "text/html": [
       "<div>\n",
       "<style scoped>\n",
       "    .dataframe tbody tr th:only-of-type {\n",
       "        vertical-align: middle;\n",
       "    }\n",
       "\n",
       "    .dataframe tbody tr th {\n",
       "        vertical-align: top;\n",
       "    }\n",
       "\n",
       "    .dataframe thead th {\n",
       "        text-align: right;\n",
       "    }\n",
       "</style>\n",
       "<table border=\"1\" class=\"dataframe\">\n",
       "  <thead>\n",
       "    <tr style=\"text-align: right;\">\n",
       "      <th></th>\n",
       "      <th>text</th>\n",
       "    </tr>\n",
       "  </thead>\n",
       "  <tbody>\n",
       "    <tr>\n",
       "      <th>0</th>\n",
       "      <td>virginamerica dhepburn said</td>\n",
       "    </tr>\n",
       "    <tr>\n",
       "      <th>1</th>\n",
       "      <td>virginamerica plus youve added commercial expe...</td>\n",
       "    </tr>\n",
       "    <tr>\n",
       "      <th>2</th>\n",
       "      <td>virginamerica didnt today must mean need take ...</td>\n",
       "    </tr>\n",
       "    <tr>\n",
       "      <th>3</th>\n",
       "      <td>virginamerica really aggressive blast obnoxiou...</td>\n",
       "    </tr>\n",
       "    <tr>\n",
       "      <th>4</th>\n",
       "      <td>virginamerica really big bad thing</td>\n",
       "    </tr>\n",
       "  </tbody>\n",
       "</table>\n",
       "</div>"
      ],
      "text/plain": [
       "                                                text\n",
       "0                        virginamerica dhepburn said\n",
       "1  virginamerica plus youve added commercial expe...\n",
       "2  virginamerica didnt today must mean need take ...\n",
       "3  virginamerica really aggressive blast obnoxiou...\n",
       "4                 virginamerica really big bad thing"
      ]
     },
     "execution_count": 21,
     "metadata": {},
     "output_type": "execute_result"
    }
   ],
   "source": [
    "# x = data['text']\n",
    "x = data.iloc[:,10:11]\n",
    "x.head()"
   ]
  },
  {
   "cell_type": "code",
   "execution_count": 22,
   "id": "ac58b7c8",
   "metadata": {},
   "outputs": [
    {
     "data": {
      "text/plain": [
       "0     neutral\n",
       "1    positive\n",
       "2     neutral\n",
       "3    negative\n",
       "4    negative\n",
       "Name: airline_sentiment, dtype: object"
      ]
     },
     "execution_count": 22,
     "metadata": {},
     "output_type": "execute_result"
    }
   ],
   "source": [
    "y = data['airline_sentiment']\n",
    "y.head()"
   ]
  },
  {
   "cell_type": "code",
   "execution_count": 23,
   "id": "f61cdae6",
   "metadata": {},
   "outputs": [],
   "source": [
    "from sklearn.model_selection import train_test_split\n",
    "x_train, x_test, y_train, y_test = train_test_split(x,y,test_size=0.2, random_state=134)"
   ]
  },
  {
   "cell_type": "code",
   "execution_count": 24,
   "id": "9aa081bc",
   "metadata": {},
   "outputs": [
    {
     "data": {
      "text/html": [
       "<div>\n",
       "<style scoped>\n",
       "    .dataframe tbody tr th:only-of-type {\n",
       "        vertical-align: middle;\n",
       "    }\n",
       "\n",
       "    .dataframe tbody tr th {\n",
       "        vertical-align: top;\n",
       "    }\n",
       "\n",
       "    .dataframe thead th {\n",
       "        text-align: right;\n",
       "    }\n",
       "</style>\n",
       "<table border=\"1\" class=\"dataframe\">\n",
       "  <thead>\n",
       "    <tr style=\"text-align: right;\">\n",
       "      <th></th>\n",
       "      <th>text</th>\n",
       "    </tr>\n",
       "  </thead>\n",
       "  <tbody>\n",
       "    <tr>\n",
       "      <th>561</th>\n",
       "      <td>united email addressusername signon available</td>\n",
       "    </tr>\n",
       "    <tr>\n",
       "      <th>6372</th>\n",
       "      <td>southwestair im trying get home nashville ive ...</td>\n",
       "    </tr>\n",
       "    <tr>\n",
       "      <th>205</th>\n",
       "      <td>virginamerica goodness people love field amazi...</td>\n",
       "    </tr>\n",
       "    <tr>\n",
       "      <th>9980</th>\n",
       "      <td>usairways united say luggage hold almost 35 hr...</td>\n",
       "    </tr>\n",
       "    <tr>\n",
       "      <th>8648</th>\n",
       "      <td>jetblue missing point flight left hour late fl...</td>\n",
       "    </tr>\n",
       "    <tr>\n",
       "      <th>...</th>\n",
       "      <td>...</td>\n",
       "    </tr>\n",
       "    <tr>\n",
       "      <th>12438</th>\n",
       "      <td>americanair absolute worst experience ever</td>\n",
       "    </tr>\n",
       "    <tr>\n",
       "      <th>13723</th>\n",
       "      <td>americanair service received u rude well expec...</td>\n",
       "    </tr>\n",
       "    <tr>\n",
       "      <th>11640</th>\n",
       "      <td>usairways wheres bag called noon promising tod...</td>\n",
       "    </tr>\n",
       "    <tr>\n",
       "      <th>13898</th>\n",
       "      <td>americanair aa45 jfk la</td>\n",
       "    </tr>\n",
       "    <tr>\n",
       "      <th>9699</th>\n",
       "      <td>usairways heard debacle dca happening new orle...</td>\n",
       "    </tr>\n",
       "  </tbody>\n",
       "</table>\n",
       "<p>11683 rows × 1 columns</p>\n",
       "</div>"
      ],
      "text/plain": [
       "                                                    text\n",
       "561        united email addressusername signon available\n",
       "6372   southwestair im trying get home nashville ive ...\n",
       "205    virginamerica goodness people love field amazi...\n",
       "9980   usairways united say luggage hold almost 35 hr...\n",
       "8648   jetblue missing point flight left hour late fl...\n",
       "...                                                  ...\n",
       "12438         americanair absolute worst experience ever\n",
       "13723  americanair service received u rude well expec...\n",
       "11640  usairways wheres bag called noon promising tod...\n",
       "13898                            americanair aa45 jfk la\n",
       "9699   usairways heard debacle dca happening new orle...\n",
       "\n",
       "[11683 rows x 1 columns]"
      ]
     },
     "execution_count": 24,
     "metadata": {},
     "output_type": "execute_result"
    }
   ],
   "source": [
    "x_train"
   ]
  },
  {
   "cell_type": "markdown",
   "id": "fc7bc9d3",
   "metadata": {},
   "source": [
    "### BOW\n",
    "\n",
    "Bags of words model : It is used to convert text documents to numerical vectors or bag of words."
   ]
  },
  {
   "cell_type": "code",
   "execution_count": 25,
   "id": "8b3be607",
   "metadata": {},
   "outputs": [],
   "source": [
    "cv = CountVectorizer(stop_words = \"english\", min_df = 10, max_df=200, max_features = 2000)"
   ]
  },
  {
   "cell_type": "code",
   "execution_count": 26,
   "id": "adf0f01e",
   "metadata": {},
   "outputs": [],
   "source": [
    "#parse matrix to numpy array to_array\n",
    "x_train_bow = cv.fit_transform(x_train['text']).toarray()\n",
    "x_test_bow = cv.transform(x_test['text']).toarray()"
   ]
  },
  {
   "cell_type": "code",
   "execution_count": 27,
   "id": "97065834",
   "metadata": {},
   "outputs": [
    {
     "data": {
      "text/plain": [
       "1280"
      ]
     },
     "execution_count": 27,
     "metadata": {},
     "output_type": "execute_result"
    }
   ],
   "source": [
    "len(cv.vocabulary_)"
   ]
  },
  {
   "cell_type": "markdown",
   "id": "2266de37",
   "metadata": {},
   "source": [
    "### TF-IDF\n",
    "\n",
    "Term Frequency-Inverse Document Frequency model (TFIDF) : It is used to convert text documents to matrix of tfidf features."
   ]
  },
  {
   "cell_type": "code",
   "execution_count": 28,
   "id": "8a368b36",
   "metadata": {},
   "outputs": [],
   "source": [
    "tfidfvec = TfidfVectorizer(stop_words = \"english\", min_df = 10, max_df=200, max_features = 2000)"
   ]
  },
  {
   "cell_type": "code",
   "execution_count": 29,
   "id": "55c34cc9",
   "metadata": {},
   "outputs": [],
   "source": [
    "#parse matrix to numpy array to_array\n",
    "x_train_tfidf= tfidfvec.fit_transform(x_train['text']).toarray()\n",
    "x_test_tfidf = tfidfvec.transform(x_test['text']).toarray()"
   ]
  },
  {
   "cell_type": "code",
   "execution_count": 30,
   "id": "2d4af776",
   "metadata": {},
   "outputs": [
    {
     "data": {
      "text/plain": [
       "1280"
      ]
     },
     "execution_count": 30,
     "metadata": {},
     "output_type": "execute_result"
    }
   ],
   "source": [
    "len(tfidfvec.vocabulary_)"
   ]
  },
  {
   "cell_type": "markdown",
   "id": "2051539c",
   "metadata": {},
   "source": [
    "### Word2Vec"
   ]
  },
  {
   "cell_type": "code",
   "execution_count": 31,
   "id": "5aecb615",
   "metadata": {},
   "outputs": [],
   "source": [
    "import gensim\n",
    "from nltk import sent_tokenize\n",
    "from gensim.utils import simple_preprocess"
   ]
  },
  {
   "cell_type": "code",
   "execution_count": 32,
   "id": "1df35144",
   "metadata": {},
   "outputs": [],
   "source": [
    "story = []\n",
    "for doc in data['text']: #We sentence tokenize our doc then do preprocessing\n",
    "    raw_sent = sent_tokenize(doc)\n",
    "    for sent in raw_sent:\n",
    "        story.append(simple_preprocess(sent))"
   ]
  },
  {
   "cell_type": "code",
   "execution_count": 33,
   "id": "9e8bcd34",
   "metadata": {},
   "outputs": [],
   "source": [
    "#Model building            by default dimension is 100 in gensim\n",
    "model = gensim.models.Word2Vec(\n",
    "    window=10,\n",
    "    min_count=2\n",
    ")"
   ]
  },
  {
   "cell_type": "code",
   "execution_count": 34,
   "id": "efeb2eb0",
   "metadata": {},
   "outputs": [],
   "source": [
    "#building vocabulary\n",
    "model.build_vocab(story)"
   ]
  },
  {
   "cell_type": "code",
   "execution_count": 35,
   "id": "9af59e5f",
   "metadata": {},
   "outputs": [
    {
     "data": {
      "text/plain": [
       "(577150, 730920)"
      ]
     },
     "execution_count": 35,
     "metadata": {},
     "output_type": "execute_result"
    }
   ],
   "source": [
    "#training our model (trained word2vec model)\n",
    "model.train(story, total_examples=model.corpus_count, epochs=model.epochs)"
   ]
  },
  {
   "cell_type": "code",
   "execution_count": 36,
   "id": "c912e8c2",
   "metadata": {},
   "outputs": [
    {
     "data": {
      "text/plain": [
       "5482"
      ]
     },
     "execution_count": 36,
     "metadata": {},
     "output_type": "execute_result"
    }
   ],
   "source": [
    "len(model.wv.index_to_key)   #no.of words in our vocabulary"
   ]
  },
  {
   "cell_type": "code",
   "execution_count": 37,
   "id": "fe1e0615",
   "metadata": {},
   "outputs": [],
   "source": [
    "#we created vector for our words, now we will create vector to represent our reviews\n",
    "def document_vector(doc):\n",
    "    # remove out-of-vocabulary words\n",
    "    doc = [word for word in doc.split() if word in model.wv.index_to_key]\n",
    "    return np.mean(model.wv[doc], axis=0)"
   ]
  },
  {
   "cell_type": "code",
   "execution_count": 38,
   "id": "277559d9",
   "metadata": {},
   "outputs": [
    {
     "data": {
      "text/plain": [
       "array([ 0.22273943, -0.03555826, -0.2710609 , -0.33250916,  0.28576398,\n",
       "       -0.8215915 ,  0.11118385,  1.0096145 ,  0.29170793, -0.48982412,\n",
       "        0.28932434, -0.3513648 , -0.38972908,  0.27210933,  0.29232207,\n",
       "        0.2554202 , -0.3063162 , -0.7150808 ,  0.20202656, -1.1321454 ,\n",
       "        0.010397  ,  0.08812815,  0.40413433, -0.6373466 , -0.01781482,\n",
       "        0.06822874, -0.21541426, -0.02626099, -0.21660016,  0.1905432 ,\n",
       "        0.45760366, -0.1254714 ,  0.70420754, -0.22456792,  0.2954603 ,\n",
       "        0.25812846, -0.17381984, -0.81261504,  0.24888381, -0.6637374 ,\n",
       "        0.02714721, -0.7137165 , -0.6014303 , -0.3515762 ,  0.74052715,\n",
       "       -0.4287758 , -0.10836396, -0.14192808,  0.19167793,  0.60962176,\n",
       "       -0.04582207, -0.7039459 , -0.05879759,  0.3932609 ,  0.15485609,\n",
       "        0.25998378,  0.49568728,  0.15661812, -0.60040337,  0.6123358 ,\n",
       "       -0.31455863,  0.25501683, -0.08887517,  0.16598283, -0.67832035,\n",
       "        0.51891685,  0.45534873,  0.44432288, -0.8989862 ,  0.7292123 ,\n",
       "       -0.15938595, -0.03011939,  1.006866  , -0.47250926,  0.13883042,\n",
       "       -0.07139165, -0.1324457 , -0.3461268 , -0.48992932, -0.13463934,\n",
       "        0.00467441, -0.18513602, -0.49011403,  0.7429906 ,  0.49353427,\n",
       "        0.5614321 ,  0.03679429,  0.16069028,  0.47652772,  0.3532296 ,\n",
       "        0.32651   ,  0.42043954,  0.3620666 ,  0.12647882,  0.5270723 ,\n",
       "        0.5454773 ,  0.57314134, -0.22454384,  0.21059647,  0.04045766],\n",
       "      dtype=float32)"
      ]
     },
     "execution_count": 38,
     "metadata": {},
     "output_type": "execute_result"
    }
   ],
   "source": [
    "document_vector(data['text'].values[0])     #converted reviews to vector with 100 dimension"
   ]
  },
  {
   "cell_type": "code",
   "execution_count": 39,
   "id": "947c7b9a",
   "metadata": {},
   "outputs": [
    {
     "name": "stderr",
     "output_type": "stream",
     "text": [
      "100%|██████████| 14604/14604 [00:06<00:00, 2242.77it/s]\n"
     ]
    }
   ],
   "source": [
    "from tqdm import tqdm\n",
    "X = []\n",
    "for doc in tqdm(data['text'].values):\n",
    "    X.append(document_vector(doc))"
   ]
  },
  {
   "cell_type": "code",
   "execution_count": 40,
   "id": "4abebbf2",
   "metadata": {},
   "outputs": [],
   "source": [
    "X = np.array(X)"
   ]
  },
  {
   "cell_type": "code",
   "execution_count": 41,
   "id": "eb5e3af5",
   "metadata": {},
   "outputs": [
    {
     "data": {
      "text/plain": [
       "(14604, 100)"
      ]
     },
     "execution_count": 41,
     "metadata": {},
     "output_type": "execute_result"
    }
   ],
   "source": [
    "X.shape"
   ]
  },
  {
   "cell_type": "code",
   "execution_count": 42,
   "id": "ec6242c6",
   "metadata": {},
   "outputs": [],
   "source": [
    "Y = data['airline_sentiment']"
   ]
  },
  {
   "cell_type": "code",
   "execution_count": 43,
   "id": "0c2fa594",
   "metadata": {},
   "outputs": [],
   "source": [
    "from sklearn.model_selection import train_test_split\n",
    "X_train,X_test,Y_train,Y_test = train_test_split(X,Y,test_size=0.2,random_state=1)"
   ]
  },
  {
   "cell_type": "code",
   "execution_count": 44,
   "id": "b3f0f40c",
   "metadata": {},
   "outputs": [],
   "source": [
    "from sklearn.ensemble import RandomForestClassifier\n",
    "from sklearn.metrics import accuracy_score"
   ]
  },
  {
   "cell_type": "code",
   "execution_count": 45,
   "id": "a6512b16",
   "metadata": {},
   "outputs": [
    {
     "data": {
      "text/plain": [
       "0.7038685381718589"
      ]
     },
     "execution_count": 45,
     "metadata": {},
     "output_type": "execute_result"
    }
   ],
   "source": [
    "rf = RandomForestClassifier()\n",
    "rf.fit(X_train,Y_train)\n",
    "Y_pred = rf.predict(X_test)\n",
    "accuracy_score(Y_test,Y_pred)"
   ]
  },
  {
   "cell_type": "markdown",
   "id": "c1627cc8",
   "metadata": {},
   "source": [
    "## Model Building and Evaluation"
   ]
  },
  {
   "cell_type": "markdown",
   "id": "7c6b8014",
   "metadata": {},
   "source": [
    "## 1. GaussianNB"
   ]
  },
  {
   "cell_type": "code",
   "execution_count": 46,
   "id": "1d69f0d9",
   "metadata": {},
   "outputs": [],
   "source": [
    "## Using BOW"
   ]
  },
  {
   "cell_type": "code",
   "execution_count": 47,
   "id": "302d8adc",
   "metadata": {},
   "outputs": [
    {
     "data": {
      "text/plain": [
       "GaussianNB()"
      ]
     },
     "execution_count": 47,
     "metadata": {},
     "output_type": "execute_result"
    }
   ],
   "source": [
    "#Gaussian Naive Bayes algorithm\n",
    "from sklearn.naive_bayes import GaussianNB\n",
    "gnb = GaussianNB()\n",
    "\n",
    "gnb.fit(x_train_bow,y_train)"
   ]
  },
  {
   "cell_type": "code",
   "execution_count": 48,
   "id": "fe2ea049",
   "metadata": {},
   "outputs": [
    {
     "data": {
      "text/plain": [
       "0.3515919205751455"
      ]
     },
     "execution_count": 48,
     "metadata": {},
     "output_type": "execute_result"
    }
   ],
   "source": [
    "y_pred = gnb.predict(x_test_bow)\n",
    "\n",
    "from sklearn.metrics import accuracy_score,confusion_matrix\n",
    "accuracy_score(y_test,y_pred)"
   ]
  },
  {
   "cell_type": "code",
   "execution_count": 49,
   "id": "a38fda81",
   "metadata": {},
   "outputs": [],
   "source": [
    "## Using TF-IDF"
   ]
  },
  {
   "cell_type": "code",
   "execution_count": 50,
   "id": "7da947fd",
   "metadata": {},
   "outputs": [
    {
     "data": {
      "text/plain": [
       "GaussianNB()"
      ]
     },
     "execution_count": 50,
     "metadata": {},
     "output_type": "execute_result"
    }
   ],
   "source": [
    "gnb = GaussianNB()\n",
    "\n",
    "gnb.fit(x_train_tfidf,y_train)"
   ]
  },
  {
   "cell_type": "code",
   "execution_count": 51,
   "id": "fe90d3c6",
   "metadata": {},
   "outputs": [
    {
     "data": {
      "text/plain": [
       "0.3642588154741527"
      ]
     },
     "execution_count": 51,
     "metadata": {},
     "output_type": "execute_result"
    }
   ],
   "source": [
    "y_pred = gnb.predict(x_test_tfidf)\n",
    "\n",
    "accuracy_score(y_test,y_pred)"
   ]
  },
  {
   "cell_type": "markdown",
   "id": "0e74239e",
   "metadata": {},
   "source": [
    "## 2. RandomForestClassifier"
   ]
  },
  {
   "cell_type": "code",
   "execution_count": 52,
   "id": "84d5f4d9",
   "metadata": {},
   "outputs": [],
   "source": [
    "## Using BOW"
   ]
  },
  {
   "cell_type": "code",
   "execution_count": 53,
   "id": "2b82bdcf",
   "metadata": {},
   "outputs": [
    {
     "data": {
      "text/plain": [
       "0.6713454296473811"
      ]
     },
     "execution_count": 53,
     "metadata": {},
     "output_type": "execute_result"
    }
   ],
   "source": [
    "from sklearn.ensemble import RandomForestClassifier\n",
    "rf = RandomForestClassifier()\n",
    "\n",
    "rf.fit(x_train_bow,y_train)\n",
    "y_pred = rf.predict(x_test_bow)\n",
    "accuracy_score(y_test,y_pred)"
   ]
  },
  {
   "cell_type": "code",
   "execution_count": 54,
   "id": "a5dd093f",
   "metadata": {},
   "outputs": [],
   "source": [
    "## Using TF-IDF"
   ]
  },
  {
   "cell_type": "code",
   "execution_count": 55,
   "id": "78c4b461",
   "metadata": {},
   "outputs": [
    {
     "data": {
      "text/plain": [
       "0.6977062649777473"
      ]
     },
     "execution_count": 55,
     "metadata": {},
     "output_type": "execute_result"
    }
   ],
   "source": [
    "rf = RandomForestClassifier()\n",
    "\n",
    "rf.fit(x_train_tfidf,y_train)\n",
    "y_pred = rf.predict(x_test_tfidf)\n",
    "accuracy_score(y_test,y_pred)"
   ]
  },
  {
   "cell_type": "markdown",
   "id": "d4d820ec",
   "metadata": {},
   "source": [
    "- Best performing one is Random Forest model with TF-IDF feature extraction technique"
   ]
  },
  {
   "cell_type": "markdown",
   "id": "392d878e",
   "metadata": {},
   "source": [
    "Now, we will try increasing no.of features"
   ]
  },
  {
   "cell_type": "code",
   "execution_count": 56,
   "id": "6eddbabb",
   "metadata": {},
   "outputs": [],
   "source": [
    "## With max features = 20000"
   ]
  },
  {
   "cell_type": "code",
   "execution_count": 57,
   "id": "53717296",
   "metadata": {},
   "outputs": [
    {
     "data": {
      "text/plain": [
       "0.7562478603218076"
      ]
     },
     "execution_count": 57,
     "metadata": {},
     "output_type": "execute_result"
    }
   ],
   "source": [
    "cv = CountVectorizer(max_features=20000)\n",
    "\n",
    "x_train_bow = cv.fit_transform(x_train['text']).toarray()\n",
    "x_test_bow = cv.transform(x_test['text']).toarray()\n",
    "\n",
    "\n",
    "rf = RandomForestClassifier()\n",
    "\n",
    "rf.fit(x_train_bow,y_train)\n",
    "y_pred = rf.predict(x_test_bow)\n",
    "accuracy_score(y_test,y_pred)"
   ]
  },
  {
   "cell_type": "code",
   "execution_count": 61,
   "id": "0df5448a",
   "metadata": {},
   "outputs": [
    {
     "data": {
      "text/plain": [
       "0.7648065730914071"
      ]
     },
     "execution_count": 61,
     "metadata": {},
     "output_type": "execute_result"
    }
   ],
   "source": [
    "tfidfvec = TfidfVectorizer(max_features=20000)\n",
    "\n",
    "x_train_tfidf = tfidfvec.fit_transform(x_train['text']).toarray()\n",
    "x_test_tfidf = tfidfvec.transform(x_test['text']).toarray()\n",
    "\n",
    "rf = RandomForestClassifier()\n",
    "\n",
    "rf.fit(x_train_tfidf,y_train)\n",
    "y_pred = rf.predict(x_test_tfidf)\n",
    "accuracy_score(y_test,y_pred)"
   ]
  },
  {
   "cell_type": "code",
   "execution_count": 62,
   "id": "ff12fed2",
   "metadata": {},
   "outputs": [],
   "source": [
    "from sklearn.metrics import accuracy_score, recall_score, f1_score, confusion_matrix, classification_report"
   ]
  },
  {
   "cell_type": "code",
   "execution_count": 63,
   "id": "bde46780",
   "metadata": {},
   "outputs": [
    {
     "name": "stdout",
     "output_type": "stream",
     "text": [
      "The accuracy score is:  0.7648065730914071\n"
     ]
    }
   ],
   "source": [
    "print('The accuracy score is: ', accuracy_score(y_test,y_pred))"
   ]
  },
  {
   "cell_type": "code",
   "execution_count": 64,
   "id": "7607d7e8",
   "metadata": {},
   "outputs": [
    {
     "data": {
      "text/plain": [
       "0.6377781018407914"
      ]
     },
     "execution_count": 64,
     "metadata": {},
     "output_type": "execute_result"
    }
   ],
   "source": [
    "recall_score(y_test,y_pred,average='macro')"
   ]
  },
  {
   "cell_type": "code",
   "execution_count": 65,
   "id": "0774b85e",
   "metadata": {},
   "outputs": [
    {
     "data": {
      "text/plain": [
       "0.6688542978474344"
      ]
     },
     "execution_count": 65,
     "metadata": {},
     "output_type": "execute_result"
    }
   ],
   "source": [
    "f1_score(y_test,y_pred,average='macro')"
   ]
  },
  {
   "cell_type": "code",
   "execution_count": 66,
   "id": "a64c460e",
   "metadata": {},
   "outputs": [],
   "source": [
    "import matplotlib.pyplot as plt\n",
    "import seaborn as sns"
   ]
  },
  {
   "cell_type": "code",
   "execution_count": 67,
   "id": "9915c4f6",
   "metadata": {},
   "outputs": [
    {
     "data": {
      "image/png": "[encoded data removed]",
      "text/plain": [
       "<Figure size 640x480 with 1 Axes>"
      ]
     },
     "metadata": {},
     "output_type": "display_data"
    }
   ],
   "source": [
    "# Calculate the counts of 0s and 1s and 2s\n",
    "unique, counts = np.unique(y_pred, return_counts=True)\n",
    "counts_dict = dict(zip(unique, counts))\n",
    "# Define colors for each class\n",
    "colors = ['red', 'yellow', 'green']\n",
    "\n",
    "# Create a bar graph\n",
    "plt.bar(counts_dict.keys(), counts_dict.values(), color=colors)\n",
    "plt.xlabel('Negative, Neutral or Positive reviews')\n",
    "plt.ylabel('Count')\n",
    "plt.xticks(list(counts_dict.keys()))\n",
    "plt.title('Sentiment of the review')\n",
    "plt.show()"
   ]
  },
  {
   "cell_type": "markdown",
   "id": "67c6e1a3",
   "metadata": {},
   "source": [
    "# Conclusion:\n",
    "#### with max features as 20000, we got accuracy for RandomForest model as 76% while using TF-IDF feature extraction Technique"
   ]
  },
  {
   "cell_type": "markdown",
   "id": "07c1ecf8",
   "metadata": {},
   "source": [
    "## RNN"
   ]
  },
  {
   "cell_type": "code",
   "execution_count": 68,
   "id": "1bd1eb0b",
   "metadata": {},
   "outputs": [],
   "source": [
    "texts = data['text'].values\n",
    "labels = data['airline_sentiment'].values"
   ]
  },
  {
   "cell_type": "code",
   "execution_count": 69,
   "id": "46e90ac6",
   "metadata": {},
   "outputs": [],
   "source": [
    "# Encode the labels\n",
    "label_encoder = LabelEncoder()\n",
    "labels = label_encoder.fit_transform(labels)\n",
    "num_classes = len(label_encoder.classes_)"
   ]
  },
  {
   "cell_type": "code",
   "execution_count": 70,
   "id": "1a48783a",
   "metadata": {},
   "outputs": [
    {
     "data": {
      "text/plain": [
       "array([1, 2, 1, ..., 1, 0, 1])"
      ]
     },
     "execution_count": 70,
     "metadata": {},
     "output_type": "execute_result"
    }
   ],
   "source": [
    "labels"
   ]
  },
  {
   "cell_type": "code",
   "execution_count": 71,
   "id": "8b858e63",
   "metadata": {},
   "outputs": [],
   "source": [
    "# Tokenize the text data\n",
    "max_words = 10000          # We can adjust this based on our vocabulary size\n",
    "tokenizer = Tokenizer(num_words=max_words)\n",
    "tokenizer.fit_on_texts(texts)\n",
    "sequences = tokenizer.texts_to_sequences(texts)"
   ]
  },
  {
   "cell_type": "code",
   "execution_count": 72,
   "id": "74612a26",
   "metadata": {},
   "outputs": [],
   "source": [
    "# Pad sequences to a fixed length\n",
    "max_sequence_length = 200   # We can adjust this based on our sequence length\n",
    "data = pad_sequences(sequences, maxlen=max_sequence_length)"
   ]
  },
  {
   "cell_type": "code",
   "execution_count": 73,
   "id": "a95b21ae",
   "metadata": {},
   "outputs": [
    {
     "name": "stdout",
     "output_type": "stream",
     "text": [
      "Epoch 1/20\n",
      "366/366 [==============================] - 28s 70ms/step - loss: 0.7494 - accuracy: 0.6843 - val_loss: 0.5860 - val_accuracy: 0.7720\n",
      "Epoch 2/20\n",
      "366/366 [==============================] - 24s 65ms/step - loss: 0.6211 - accuracy: 0.7492 - val_loss: 0.6114 - val_accuracy: 0.7562\n",
      "Epoch 3/20\n",
      "366/366 [==============================] - 25s 67ms/step - loss: 0.4248 - accuracy: 0.8382 - val_loss: 0.5992 - val_accuracy: 0.7761\n",
      "Epoch 4/20\n",
      "366/366 [==============================] - 24s 65ms/step - loss: 0.2575 - accuracy: 0.9074 - val_loss: 0.6861 - val_accuracy: 0.7593\n",
      "Epoch 5/20\n",
      "366/366 [==============================] - 24s 65ms/step - loss: 0.1505 - accuracy: 0.9492 - val_loss: 0.8082 - val_accuracy: 0.7576\n",
      "Epoch 6/20\n",
      "366/366 [==============================] - 24s 67ms/step - loss: 0.2030 - accuracy: 0.9265 - val_loss: 0.7823 - val_accuracy: 0.7614\n",
      "92/92 [==============================] - 2s 24ms/step - loss: 0.5860 - accuracy: 0.7720\n",
      "Test loss: 0.5860\n",
      "Test accuracy: 0.7720\n"
     ]
    },
    {
     "data": {
      "image/png": "[encoded data removed]",
      "text/plain": [
       "<Figure size 800x600 with 1 Axes>"
      ]
     },
     "metadata": {},
     "output_type": "display_data"
    }
   ],
   "source": [
    "# Split the data into training and testing sets\n",
    "X_train, X_test, y_train, y_test = train_test_split(data, labels, test_size=0.2, random_state=42, stratify = labels)\n",
    "\n",
    "# Create the RNN model\n",
    "model = Sequential()\n",
    "\n",
    "# Add an embedding layer\n",
    "embedding_dim = 100  # Adjust as needed\n",
    "model.add(Embedding(input_dim=max_words, output_dim=embedding_dim, input_length=max_sequence_length))\n",
    "\n",
    "# Add a SimpleRNN layer with dropout\n",
    "model.add(SimpleRNN(128, activation='tanh', return_sequences=False))\n",
    "model.add(Dropout(0.5))  # Dropout layer to reduce overfitting\n",
    "\n",
    "# Add a Dense layer with one output unit (for binary sentiment classification)\n",
    "model.add(Dense(num_classes, activation='softmax'))\n",
    "\n",
    "# Compile the model\n",
    "model.compile(loss='sparse_categorical_crossentropy', optimizer='adam', metrics=['accuracy'])\n",
    "\n",
    "# Use early stopping to prevent overfitting\n",
    "early_stopping = EarlyStopping(patience=5, restore_best_weights=True)\n",
    "\n",
    "# Train the model\n",
    "history = model.fit(X_train, y_train, epochs=20, validation_data=(X_test, y_test), callbacks=[early_stopping])\n",
    "\n",
    "# Evaluate the model\n",
    "loss, accuracy = model.evaluate(X_test, y_test)\n",
    "print(f'Test loss: {loss:.4f}')\n",
    "print(f'Test accuracy: {accuracy:.4f}')\n",
    "\n",
    "# Extract accuracy data from the training history\n",
    "train_accuracy = history.history['accuracy']\n",
    "test_accuracy = history.history['val_accuracy']\n",
    "\n",
    "# Create a plot to visualize the training and testing accuracy\n",
    "plt.figure(figsize=(8, 6))\n",
    "plt.plot(range(1, len(train_accuracy) + 1), train_accuracy, label='Training Accuracy', marker='o', linestyle='-', color='b')\n",
    "plt.plot(range(1, len(test_accuracy) + 1), test_accuracy, label='Testing Accuracy', marker='o', linestyle='-', color='r')\n",
    "\n",
    "# Add labels and a legend\n",
    "plt.xlabel('Epochs')\n",
    "plt.ylabel('Accuracy')\n",
    "plt.title('Training and Testing Accuracy Over Epochs')\n",
    "plt.legend(loc='best')\n",
    "\n",
    "# Show the plot\n",
    "plt.grid()\n",
    "plt.show()\n"
   ]
  },
  {
   "cell_type": "markdown",
   "id": "a82fb7d6",
   "metadata": {},
   "source": [
    "-  Our RNN model is making progress in terms of accuracy, but it's facing some challenges in later epochs. "
   ]
  },
  {
   "cell_type": "code",
   "execution_count": 74,
   "id": "60fa940e",
   "metadata": {},
   "outputs": [
    {
     "name": "stdout",
     "output_type": "stream",
     "text": [
      "92/92 [==============================] - 2s 23ms/step\n"
     ]
    }
   ],
   "source": [
    "prediction = model.predict(X_test)"
   ]
  },
  {
   "cell_type": "code",
   "execution_count": 75,
   "id": "6fb3961b",
   "metadata": {},
   "outputs": [
    {
     "data": {
      "text/plain": [
       "array([[0.85361487, 0.12011133, 0.02627377],\n",
       "       [0.7346979 , 0.18841396, 0.07688818],\n",
       "       [0.54517245, 0.36923307, 0.08559445],\n",
       "       ...,\n",
       "       [0.9669926 , 0.02972989, 0.00327751],\n",
       "       [0.91399413, 0.07597411, 0.01003174],\n",
       "       [0.8779274 , 0.09948126, 0.02259124]], dtype=float32)"
      ]
     },
     "execution_count": 75,
     "metadata": {},
     "output_type": "execute_result"
    }
   ],
   "source": [
    "prediction"
   ]
  },
  {
   "cell_type": "code",
   "execution_count": 76,
   "id": "e5a9812a",
   "metadata": {},
   "outputs": [
    {
     "name": "stdout",
     "output_type": "stream",
     "text": [
      "1/1 [==============================] - 0s 59ms/step\n",
      "virginamerica amazing arrived hour early youre good\n",
      "Predicted sentiment:  Neutral\n"
     ]
    }
   ],
   "source": [
    "# Reviews on which we need to predict\n",
    "sentence = [\"virginamerica amazing arrived hour early youre good\"]\n",
    "\n",
    "# Convert to a sequence\n",
    "sequences = tokenizer.texts_to_sequences(sentence)\n",
    "\n",
    "# Pad the sequence\n",
    "max_length = 200  # Make sure this matches the max_sequence_length used during training\n",
    "padded = pad_sequences(sequences, padding='post', maxlen=max_length)\n",
    "\n",
    "# Get labels based on the predicted class with the highest probability\n",
    "prediction = model.predict(padded)\n",
    "pred_labels = np.argmax(prediction, axis=1)\n",
    "\n",
    "# Map numerical labels to sentiment categories\n",
    "sentiment_mapping = {0: 'Negative', 1: 'Neutral', 2: 'Positive'}\n",
    "for i in range(len(sentence)):\n",
    "    print(sentence[i])\n",
    "    predicted_sentiment = sentiment_mapping[pred_labels[i]]\n",
    "    print(\"Predicted sentiment: \", predicted_sentiment)"
   ]
  },
  {
   "cell_type": "code",
   "execution_count": 77,
   "id": "a768c461",
   "metadata": {},
   "outputs": [
    {
     "name": "stdout",
     "output_type": "stream",
     "text": [
      "1/1 [==============================] - 0s 60ms/step\n",
      "@VirginAmerica I have an unused ticket but moved to a new city where you don't fly. How can I fly with you before it expires? #travelhelp\n",
      "Predicted sentiment:  Neutral\n"
     ]
    }
   ],
   "source": [
    "# Reviews on which we need to predict\n",
    "sentence = [ \"@VirginAmerica I have an unused ticket but moved to a new city where you don't fly. How can I fly with you before it expires? #travelhelp\"]\n",
    "\n",
    "# Convert to a sequence\n",
    "sequences = tokenizer.texts_to_sequences(sentence)\n",
    "\n",
    "# Pad the sequence\n",
    "max_length = 200  # Make sure this matches the max_sequence_length used during training\n",
    "padded = pad_sequences(sequences, padding='post', maxlen=max_length)\n",
    "\n",
    "# Get labels based on the predicted class with the highest probability\n",
    "prediction = model.predict(padded)\n",
    "pred_labels = np.argmax(prediction, axis=1)\n",
    "\n",
    "# Map numerical labels to sentiment categories\n",
    "sentiment_mapping = {0: 'Negative', 1: 'Neutral', 2: 'Positive'}\n",
    "for i in range(len(sentence)):\n",
    "    print(sentence[i])\n",
    "    predicted_sentiment = sentiment_mapping[pred_labels[i]]\n",
    "    print(\"Predicted sentiment: \", predicted_sentiment)"
   ]
  },
  {
   "cell_type": "code",
   "execution_count": 78,
   "id": "d39e027e",
   "metadata": {},
   "outputs": [
    {
     "name": "stdout",
     "output_type": "stream",
     "text": [
      "1/1 [==============================] - 0s 50ms/step\n",
      "Probability of Negative: 0.3022\n",
      "Probability of Neutral: 0.4411\n",
      "Probability of Positive: 0.2568\n"
     ]
    }
   ],
   "source": [
    "# Get the predicted probabilities for each class\n",
    "predicted_probabilities = model.predict(padded)\n",
    "\n",
    "# Print the predicted probabilities for each class\n",
    "for i, prob in enumerate(predicted_probabilities[0]):\n",
    "    sentiment = sentiment_mapping[i]\n",
    "    print(f\"Probability of {sentiment}: {prob:.4f}\")"
   ]
  },
  {
   "cell_type": "markdown",
   "id": "ad7077f9",
   "metadata": {},
   "source": [
    "# LSTM"
   ]
  },
  {
   "cell_type": "code",
   "execution_count": 79,
   "id": "e0e24760",
   "metadata": {},
   "outputs": [],
   "source": [
    "from tensorflow.keras.layers import Embedding, LSTM, Dense, Dropout\n",
    "from tensorflow.keras.callbacks import EarlyStopping, ReduceLROnPlateau, ModelCheckpoint   "
   ]
  },
  {
   "cell_type": "code",
   "execution_count": 80,
   "id": "c5419145",
   "metadata": {},
   "outputs": [],
   "source": [
    "# Create the RNN model\n",
    "model = Sequential()\n",
    "\n",
    "# Add an embedding layer\n",
    "embedding_dim = 100  # Adjust as needed\n",
    "model.add(Embedding(input_dim=max_words, output_dim=embedding_dim, input_length=max_sequence_length))\n",
    "\n",
    "# Add an LSTM layer with dropout\n",
    "model.add(LSTM(64, activation='tanh', return_sequences=False))\n",
    "model.add(Dropout(0.5))  # Dropout layer to reduce overfitting\n",
    "\n",
    "# Add a Dense layer with one output unit (for binary sentiment classification)\n",
    "model.add(Dense(num_classes, activation='softmax'))\n",
    "\n",
    "# Compile the model\n",
    "model.compile(loss='sparse_categorical_crossentropy', optimizer='adam', metrics=['accuracy'])\n",
    "\n",
    "# Use early stopping to prevent overfitting\n",
    "early_stopping = EarlyStopping(patience=5, restore_best_weights=True)\n",
    "\n",
    "# Implement learning rate schedule\n",
    "reduce_lr = ReduceLROnPlateau(monitor='val_loss', factor=0.2, patience=3, min_lr=0.0001)\n",
    "\n",
    "# Model checkpoint to save the best model\n",
    "checkpoint = ModelCheckpoint(\"best_model.h5\", save_best_only=True)"
   ]
  },
  {
   "cell_type": "code",
   "execution_count": 81,
   "id": "0532285b",
   "metadata": {},
   "outputs": [
    {
     "name": "stdout",
     "output_type": "stream",
     "text": [
      "Epoch 1/20\n",
      "366/366 [==============================] - 51s 131ms/step - loss: 0.6845 - accuracy: 0.7259 - val_loss: 0.5479 - val_accuracy: 0.7912 - lr: 0.0010\n",
      "Epoch 2/20\n",
      "366/366 [==============================] - 48s 130ms/step - loss: 0.4254 - accuracy: 0.8364 - val_loss: 0.5378 - val_accuracy: 0.7919 - lr: 0.0010\n",
      "Epoch 3/20\n",
      "366/366 [==============================] - 47s 129ms/step - loss: 0.2993 - accuracy: 0.8922 - val_loss: 0.6032 - val_accuracy: 0.7792 - lr: 0.0010\n",
      "Epoch 4/20\n",
      "366/366 [==============================] - 47s 130ms/step - loss: 0.2225 - accuracy: 0.9224 - val_loss: 0.7364 - val_accuracy: 0.7686 - lr: 0.0010\n",
      "Epoch 5/20\n",
      "366/366 [==============================] - 47s 129ms/step - loss: 0.1691 - accuracy: 0.9414 - val_loss: 0.8363 - val_accuracy: 0.7706 - lr: 0.0010\n",
      "Epoch 6/20\n",
      "366/366 [==============================] - 47s 129ms/step - loss: 0.1047 - accuracy: 0.9658 - val_loss: 0.9207 - val_accuracy: 0.7645 - lr: 2.0000e-04\n",
      "Epoch 7/20\n",
      "366/366 [==============================] - 48s 131ms/step - loss: 0.0886 - accuracy: 0.9717 - val_loss: 0.9981 - val_accuracy: 0.7634 - lr: 2.0000e-04\n"
     ]
    }
   ],
   "source": [
    "#Train the model\n",
    "history = model.fit(X_train, y_train, epochs=20, validation_data=(X_test, y_test), callbacks=[early_stopping, reduce_lr, checkpoint])"
   ]
  },
  {
   "cell_type": "code",
   "execution_count": 82,
   "id": "e447e850",
   "metadata": {},
   "outputs": [
    {
     "name": "stdout",
     "output_type": "stream",
     "text": [
      "92/92 [==============================] - 4s 44ms/step - loss: 0.5378 - accuracy: 0.7919\n",
      "Test loss: 0.5378\n",
      "Test accuracy: 0.7919\n"
     ]
    }
   ],
   "source": [
    "# Evaluate the model\n",
    "loss, accuracy = model.evaluate(X_test, y_test)\n",
    "print(f'Test loss: {loss:.4f}')\n",
    "print(f'Test accuracy: {accuracy:.4f}')"
   ]
  },
  {
   "cell_type": "code",
   "execution_count": 83,
   "id": "878a9073",
   "metadata": {},
   "outputs": [],
   "source": [
    "# Extract accuracy data from the training history\n",
    "train_accuracy = history.history['accuracy']\n",
    "test_accuracy = history.history['val_accuracy']"
   ]
  },
  {
   "cell_type": "code",
   "execution_count": 84,
   "id": "70885e82",
   "metadata": {},
   "outputs": [
    {
     "data": {
      "image/png": "[encoded data removed]",
      "text/plain": [
       "<Figure size 800x600 with 1 Axes>"
      ]
     },
     "metadata": {},
     "output_type": "display_data"
    }
   ],
   "source": [
    "# Create a plot to visualize the training and testing accuracy\n",
    "plt.figure(figsize=(8, 6))\n",
    "plt.plot(range(1, len(train_accuracy) + 1), train_accuracy, label='Training Accuracy', marker='o', linestyle='-', color='b')\n",
    "plt.plot(range(1, len(test_accuracy) + 1), test_accuracy, label='Testing Accuracy', marker='o', linestyle='-', color='r')\n",
    "\n",
    "# Add labels and a legend\n",
    "plt.xlabel('Epochs')\n",
    "plt.ylabel('Accuracy')\n",
    "plt.title('Training and Testing Accuracy Over Epochs')\n",
    "plt.legend(loc='best')\n",
    "\n",
    "# Show the plot\n",
    "plt.grid()\n",
    "plt.show()"
   ]
  },
  {
   "cell_type": "code",
   "execution_count": 85,
   "id": "6feb3e0b",
   "metadata": {},
   "outputs": [
    {
     "name": "stdout",
     "output_type": "stream",
     "text": [
      "1/1 [==============================] - 1s 615ms/step\n",
      "'virginamerica amazing arrived hour early youre good'\n",
      "Predicted sentiment:  Neutral\n"
     ]
    }
   ],
   "source": [
    "# Reviews on which we need to predict\n",
    "sentence = [\"'virginamerica amazing arrived hour early youre good'\"]\n",
    "\n",
    "# Convert to a sequence\n",
    "sequences = tokenizer.texts_to_sequences(sentence)\n",
    "\n",
    "# Pad the sequence\n",
    "max_length = 200  # Make sure this matches the max_sequence_length used during training\n",
    "padded = pad_sequences(sequences, padding='post', maxlen=max_length)\n",
    "\n",
    "# Get labels based on the predicted class with the highest probability\n",
    "prediction = model.predict(padded)\n",
    "pred_labels = np.argmax(prediction, axis=1)\n",
    "\n",
    "# Map numerical labels to sentiment categories\n",
    "sentiment_mapping = {0: 'Negative', 1: 'Neutral', 2: 'Positive'}\n",
    "for i in range(len(sentence)):\n",
    "    print(sentence[i])\n",
    "    predicted_sentiment = sentiment_mapping[pred_labels[i]]\n",
    "    print(\"Predicted sentiment: \", predicted_sentiment)"
   ]
  },
  {
   "cell_type": "code",
   "execution_count": 86,
   "id": "42960487",
   "metadata": {},
   "outputs": [
    {
     "name": "stdout",
     "output_type": "stream",
     "text": [
      "1/1 [==============================] - 0s 56ms/step\n",
      "Probability of Negative: 0.2100\n",
      "Probability of Neutral: 0.5779\n",
      "Probability of Positive: 0.2121\n"
     ]
    }
   ],
   "source": [
    "# Get the predicted probabilities for each class\n",
    "predicted_probabilities = model.predict(padded)\n",
    "\n",
    "# Print the predicted probabilities for each class\n",
    "for i, prob in enumerate(predicted_probabilities[0]):\n",
    "    sentiment = sentiment_mapping[i]\n",
    "    print(f\"Probability of {sentiment}: {prob:.4f}\")"
   ]
  },
  {
   "cell_type": "code",
   "execution_count": 87,
   "id": "c4243cc2",
   "metadata": {},
   "outputs": [
    {
     "data": {
      "text/plain": [
       "0.21000905"
      ]
     },
     "execution_count": 87,
     "metadata": {},
     "output_type": "execute_result"
    }
   ],
   "source": [
    "prediction[0][0]"
   ]
  },
  {
   "cell_type": "code",
   "execution_count": 88,
   "id": "0d86507c",
   "metadata": {},
   "outputs": [
    {
     "data": {
      "text/plain": [
       "array([[0.21000905, 0.57787144, 0.21211949]], dtype=float32)"
      ]
     },
     "execution_count": 88,
     "metadata": {},
     "output_type": "execute_result"
    }
   ],
   "source": [
    "prediction"
   ]
  },
  {
   "cell_type": "code",
   "execution_count": 89,
   "id": "9b139eac",
   "metadata": {},
   "outputs": [
    {
     "data": {
      "text/plain": [
       "array([1], dtype=int64)"
      ]
     },
     "execution_count": 89,
     "metadata": {},
     "output_type": "execute_result"
    }
   ],
   "source": [
    "pred_labels"
   ]
  },
  {
   "cell_type": "code",
   "execution_count": 90,
   "id": "32efc820",
   "metadata": {},
   "outputs": [],
   "source": [
    "# Hyperparameters of the model\n",
    "vocab_size = 17500 \n",
    "oov_tok = ''\n",
    "embedding_dim = 100\n",
    "max_length = 200 \n",
    "padding_type='post'\n",
    "trunc_type='post'"
   ]
  },
  {
   "cell_type": "markdown",
   "id": "72638fb3",
   "metadata": {},
   "source": [
    "# CNN"
   ]
  },
  {
   "cell_type": "code",
   "execution_count": 91,
   "id": "81745cc1",
   "metadata": {},
   "outputs": [],
   "source": [
    "from tensorflow.keras.layers import Embedding, Conv1D, GlobalMaxPooling1D, Dense, Dropout\n",
    "from tensorflow.keras.callbacks import EarlyStopping"
   ]
  },
  {
   "cell_type": "code",
   "execution_count": 92,
   "id": "3c7f597f",
   "metadata": {},
   "outputs": [
    {
     "name": "stdout",
     "output_type": "stream",
     "text": [
      "Epoch 1/20\n",
      "366/366 [==============================] - 17s 43ms/step - loss: 0.6969 - accuracy: 0.7151 - val_loss: 0.5539 - val_accuracy: 0.7860\n",
      "Epoch 2/20\n",
      "366/366 [==============================] - 15s 42ms/step - loss: 0.4462 - accuracy: 0.8297 - val_loss: 0.5385 - val_accuracy: 0.7850\n",
      "Epoch 3/20\n",
      "366/366 [==============================] - 16s 43ms/step - loss: 0.2815 - accuracy: 0.9030 - val_loss: 0.6179 - val_accuracy: 0.7819\n",
      "Epoch 4/20\n",
      "366/366 [==============================] - 15s 41ms/step - loss: 0.1670 - accuracy: 0.9469 - val_loss: 0.7587 - val_accuracy: 0.7764\n",
      "Epoch 5/20\n",
      "366/366 [==============================] - 15s 42ms/step - loss: 0.0997 - accuracy: 0.9699 - val_loss: 0.8794 - val_accuracy: 0.7628\n",
      "Epoch 6/20\n",
      "366/366 [==============================] - 15s 42ms/step - loss: 0.0674 - accuracy: 0.9807 - val_loss: 1.0230 - val_accuracy: 0.7713\n",
      "Epoch 7/20\n",
      "366/366 [==============================] - 15s 42ms/step - loss: 0.0479 - accuracy: 0.9869 - val_loss: 1.1271 - val_accuracy: 0.7631\n",
      "92/92 [==============================] - 1s 12ms/step - loss: 0.5385 - accuracy: 0.7850\n",
      "Test loss: 0.5385\n",
      "Test accuracy: 0.7850\n"
     ]
    },
    {
     "data": {
      "image/png": "[encoded data removed]",
      "text/plain": [
       "<Figure size 800x600 with 1 Axes>"
      ]
     },
     "metadata": {},
     "output_type": "display_data"
    }
   ],
   "source": [
    "# Create the CNN model\n",
    "embedding_dim = 100\n",
    "filters = 128\n",
    "kernel_size = 5\n",
    "\n",
    "model = Sequential()\n",
    "\n",
    "# Add an embedding layer\n",
    "model.add(Embedding(input_dim=max_words, output_dim=embedding_dim, input_length=max_sequence_length))\n",
    "\n",
    "# Add a 1D convolutional layer\n",
    "model.add(Conv1D(filters, kernel_size, activation='relu'))\n",
    "model.add(GlobalMaxPooling1D())\n",
    "\n",
    "# Add a Dense layer with dropout\n",
    "model.add(Dense(64, activation='relu'))\n",
    "model.add(Dropout(0.5))\n",
    "\n",
    "# Add the output layer\n",
    "model.add(Dense(num_classes, activation='softmax'))\n",
    "\n",
    "# Compile the model\n",
    "model.compile(loss='sparse_categorical_crossentropy', optimizer='adam', metrics=['accuracy'])\n",
    "\n",
    "# Use early stopping to prevent overfitting\n",
    "early_stopping = EarlyStopping(patience=5, restore_best_weights=True)\n",
    "\n",
    "# Train the model\n",
    "history = model.fit(X_train, y_train, epochs=20, validation_data=(X_test, y_test), callbacks=[early_stopping])\n",
    "\n",
    "# Evaluate the model\n",
    "loss, accuracy = model.evaluate(X_test, y_test)\n",
    "print(f'Test loss: {loss:.4f}')\n",
    "print(f'Test accuracy: {accuracy:.4f}')\n",
    "\n",
    "# Extract accuracy data from the training history\n",
    "train_accuracy = history.history['accuracy']\n",
    "test_accuracy = history.history['val_accuracy']\n",
    "\n",
    "# Create a plot to visualize the training and testing accuracy\n",
    "plt.figure(figsize=(8, 6))\n",
    "plt.plot(range(1, len(train_accuracy) + 1), train_accuracy, label='Training Accuracy', marker='o', linestyle='-', color='b')\n",
    "plt.plot(range(1, len(test_accuracy) + 1), test_accuracy, label='Testing Accuracy', marker='o', linestyle='-', color='r')\n",
    "\n",
    "# Add labels and a legend\n",
    "plt.xlabel('Epochs')\n",
    "plt.ylabel('Accuracy')\n",
    "plt.title('Training and Testing Accuracy Over Epochs')\n",
    "plt.legend(loc='best')\n",
    "\n",
    "# Show the plot\n",
    "plt.grid()\n",
    "plt.show()\n"
   ]
  },
  {
   "cell_type": "code",
   "execution_count": 93,
   "id": "e76f1235",
   "metadata": {},
   "outputs": [
    {
     "name": "stdout",
     "output_type": "stream",
     "text": [
      "1/1 [==============================] - 0s 125ms/step\n",
      "'virginamerica is amazing arrived hour early you are so good'\n",
      "Predicted sentiment:  Negative\n"
     ]
    }
   ],
   "source": [
    "# Reviews on which we need to predict\n",
    "sentence = [\"'virginamerica is amazing arrived hour early you are so good'\"]\n",
    "\n",
    "# Convert to a sequence\n",
    "sequences = tokenizer.texts_to_sequences(sentence)\n",
    "\n",
    "# Pad the sequence\n",
    "max_length = 200  # Make sure this matches the max_sequence_length used during training\n",
    "padded = pad_sequences(sequences, padding='post', maxlen=max_length)\n",
    "\n",
    "# Get labels based on the predicted class with the highest probability\n",
    "prediction = model.predict(padded)\n",
    "pred_labels = np.argmax(prediction, axis=1)\n",
    "\n",
    "# Map numerical labels to sentiment categories\n",
    "sentiment_mapping = {0: 'Negative', 1: 'Neutral', 2: 'Positive'}\n",
    "for i in range(len(sentence)):\n",
    "    print(sentence[i])\n",
    "    predicted_sentiment = sentiment_mapping[pred_labels[i]]\n",
    "    print(\"Predicted sentiment: \", predicted_sentiment)"
   ]
  },
  {
   "cell_type": "code",
   "execution_count": 94,
   "id": "dd1cff32",
   "metadata": {},
   "outputs": [
    {
     "name": "stdout",
     "output_type": "stream",
     "text": [
      "1/1 [==============================] - 0s 43ms/step\n",
      "Probability of Negative: 0.9513\n",
      "Probability of Neutral: 0.0364\n",
      "Probability of Positive: 0.0122\n"
     ]
    }
   ],
   "source": [
    "# Get the predicted probabilities for each class\n",
    "predicted_probabilities = model.predict(padded)\n",
    "\n",
    "# Print the predicted probabilities for each class\n",
    "for i, prob in enumerate(predicted_probabilities[0]):\n",
    "    sentiment = sentiment_mapping[i]\n",
    "    print(f\"Probability of {sentiment}: {prob:.4f}\")"
   ]
  },
  {
   "cell_type": "markdown",
   "id": "987961ea",
   "metadata": {},
   "source": [
    "###### CNN model appears to be the most promising, given its high accuracy and reasonable generalization. But it is prone to overfitting. For Streamlit app, let's take LSTM model. RNN model has lower accuracy on both training and validation data."
   ]
  },
  {
   "cell_type": "code",
   "execution_count": 89,
   "id": "e6103b59",
   "metadata": {},
   "outputs": [],
   "source": [
    "import pickle\n",
    "\n",
    "#For model\n",
    "pickle.dump(model,open('lstm_model.pkl','wb'))"
   ]
  },
  {
   "cell_type": "code",
   "execution_count": 90,
   "id": "4abfcc15",
   "metadata": {},
   "outputs": [
    {
     "name": "stderr",
     "output_type": "stream",
     "text": [
      "WARNING:absl:Found untraced functions such as _update_step_xla, lstm_cell_1_layer_call_fn, lstm_cell_1_layer_call_and_return_conditional_losses while saving (showing 3 of 3). These functions will not be directly callable after loading.\n"
     ]
    },
    {
     "name": "stdout",
     "output_type": "stream",
     "text": [
      "INFO:tensorflow:Assets written to: lstm_model\\assets\n"
     ]
    },
    {
     "name": "stderr",
     "output_type": "stream",
     "text": [
      "INFO:tensorflow:Assets written to: lstm_model\\assets\n"
     ]
    }
   ],
   "source": [
    "model.save(\"lstm_model\")"
   ]
  },
  {
   "cell_type": "code",
   "execution_count": 91,
   "id": "56da38ab",
   "metadata": {},
   "outputs": [],
   "source": [
    "with open('tokenizer.pkl', 'wb') as file:\n",
    "    pickle.dump(tokenizer, file)"
   ]
  },
  {
   "cell_type": "code",
   "execution_count": null,
   "id": "60669d0f",
   "metadata": {},
   "outputs": [],
   "source": []
  }
 ],
 "metadata": {
  "kernelspec": {
   "display_name": "Python 3 (ipykernel)",
   "language": "python",
   "name": "python3"
  },
  "language_info": {
   "codemirror_mode": {
    "name": "ipython",
    "version": 3
   },
   "file_extension": ".py",
   "mimetype": "text/x-python",
   "name": "python",
   "nbconvert_exporter": "python",
   "pygments_lexer": "ipython3",
   "version": "3.9.13"
  }
 },
 "nbformat": 4,
 "nbformat_minor": 5
}
